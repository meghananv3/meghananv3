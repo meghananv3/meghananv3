{
  "nbformat": 4,
  "nbformat_minor": 0,
  "metadata": {
    "colab": {
      "name": "Python_basics.ipynb",
      "provenance": [],
      "collapsed_sections": [],
      "include_colab_link": true
    },
    "kernelspec": {
      "name": "python3",
      "display_name": "Python 3"
    }
  },
  "cells": [
    {
      "cell_type": "markdown",
      "metadata": {
        "id": "view-in-github",
        "colab_type": "text"
      },
      "source": [
        "<a href=\"https://colab.research.google.com/github/meghananv3/meghananv3/blob/main/Python_basics.ipynb\" target=\"_parent\"><img src=\"https://colab.research.google.com/assets/colab-badge.svg\" alt=\"Open In Colab\"/></a>"
      ]
    },
    {
      "metadata": {
        "id": "sLESROEY-Bh_"
      },
      "cell_type": "code",
      "source": [
        "x=10"
      ],
      "execution_count": null,
      "outputs": []
    },
    {
      "metadata": {
        "id": "j47s6S67-0ax",
        "outputId": "5ae4e5c0-7c3f-4b3f-ad0f-597656be02dd",
        "colab": {
          "base_uri": "https://localhost:8080/",
          "height": 34
        }
      },
      "cell_type": "code",
      "source": [
        "print(\"Hello World\")"
      ],
      "execution_count": null,
      "outputs": [
        {
          "output_type": "stream",
          "text": [
            "Hello World\n"
          ],
          "name": "stdout"
        }
      ]
    },
    {
      "metadata": {
        "id": "DSrZws2y_E5-",
        "outputId": "b6b1d99c-8632-4e7d-b8bf-1ba21f544667",
        "colab": {
          "base_uri": "https://localhost:8080/",
          "height": 34
        }
      },
      "cell_type": "code",
      "source": [
        "y=20\n",
        "z=x+y\n",
        "print(z)"
      ],
      "execution_count": null,
      "outputs": [
        {
          "output_type": "stream",
          "text": [
            "30\n"
          ],
          "name": "stdout"
        }
      ]
    },
    {
      "metadata": {
        "id": "bfKMj932_dcU",
        "outputId": "25a409d3-ff7d-4947-ce81-e9a9c7e8eb57",
        "colab": {
          "base_uri": "https://localhost:8080/",
          "height": 85
        }
      },
      "cell_type": "code",
      "source": [
        "print(y-x)\n",
        "print(y*x)\n",
        "print(y/x)\n",
        "print(y%x)"
      ],
      "execution_count": null,
      "outputs": [
        {
          "output_type": "stream",
          "text": [
            "10\n",
            "200\n",
            "2.0\n",
            "0\n"
          ],
          "name": "stdout"
        }
      ]
    },
    {
      "metadata": {
        "id": "j9juuZPyAosR",
        "outputId": "9f0558eb-5015-490b-93cc-2ff599c14e62",
        "colab": {
          "base_uri": "https://localhost:8080/",
          "height": 34
        }
      },
      "cell_type": "code",
      "source": [
        "2**5"
      ],
      "execution_count": null,
      "outputs": [
        {
          "output_type": "execute_result",
          "data": {
            "text/plain": [
              "32"
            ]
          },
          "metadata": {
            "tags": []
          },
          "execution_count": 5
        }
      ]
    },
    {
      "metadata": {
        "id": "x7eSRLZQA42b",
        "outputId": "1826db9b-acee-424b-def6-742f690738e0",
        "colab": {
          "base_uri": "https://localhost:8080/",
          "height": 34
        }
      },
      "cell_type": "code",
      "source": [
        "2**100"
      ],
      "execution_count": null,
      "outputs": [
        {
          "output_type": "execute_result",
          "data": {
            "text/plain": [
              "1267650600228229401496703205376"
            ]
          },
          "metadata": {
            "tags": []
          },
          "execution_count": 6
        }
      ]
    },
    {
      "metadata": {
        "id": "2LecpHElBD2Z",
        "outputId": "63b85baf-5ca7-4679-eadf-546c7ab6f2b5",
        "colab": {
          "base_uri": "https://localhost:8080/",
          "height": 54
        }
      },
      "cell_type": "code",
      "source": [
        "2**1000\n"
      ],
      "execution_count": null,
      "outputs": [
        {
          "output_type": "execute_result",
          "data": {
            "text/plain": [
              "10715086071862673209484250490600018105614048117055336074437503883703510511249361224931983788156958581275946729175531468251871452856923140435984577574698574803934567774824230985421074605062371141877954182153046474983581941267398767559165543946077062914571196477686542167660429831652624386837205668069376"
            ]
          },
          "metadata": {
            "tags": []
          },
          "execution_count": 7
        }
      ]
    },
    {
      "metadata": {
        "id": "nhyqB6FcBKFS"
      },
      "cell_type": "code",
      "source": [
        "p=3.14159\n"
      ],
      "execution_count": null,
      "outputs": []
    },
    {
      "metadata": {
        "id": "JXPXNhqKBoaJ",
        "outputId": "974c5120-4932-436e-f28d-8867cb5630e3",
        "colab": {
          "base_uri": "https://localhost:8080/",
          "height": 34
        }
      },
      "cell_type": "code",
      "source": [
        "p"
      ],
      "execution_count": null,
      "outputs": [
        {
          "output_type": "execute_result",
          "data": {
            "text/plain": [
              "3.14159"
            ]
          },
          "metadata": {
            "tags": []
          },
          "execution_count": 9
        }
      ]
    },
    {
      "metadata": {
        "id": "YDSK6tZ6BsPw",
        "outputId": "96c63066-a68c-4c86-b076-9b209247af25",
        "colab": {
          "base_uri": "https://localhost:8080/",
          "height": 34
        }
      },
      "cell_type": "code",
      "source": [
        "a='hello'\n",
        "b='world'\n",
        "a+b"
      ],
      "execution_count": null,
      "outputs": [
        {
          "output_type": "execute_result",
          "data": {
            "text/plain": [
              "'helloworld'"
            ]
          },
          "metadata": {
            "tags": []
          },
          "execution_count": 11
        }
      ]
    },
    {
      "metadata": {
        "id": "J6388i0aB_EY",
        "outputId": "f9909b35-4db4-4bc4-f786-5135bf1feb95",
        "colab": {
          "base_uri": "https://localhost:8080/",
          "height": 34
        }
      },
      "cell_type": "code",
      "source": [
        "c=a+b\n",
        "print(c)\n"
      ],
      "execution_count": null,
      "outputs": [
        {
          "output_type": "stream",
          "text": [
            "helloworld\n"
          ],
          "name": "stdout"
        }
      ]
    },
    {
      "metadata": {
        "id": "4d54D7XoCcAm",
        "outputId": "cf2b9e3c-7b84-491f-e6f0-2ffaafdf3f17",
        "colab": {
          "base_uri": "https://localhost:8080/",
          "height": 34
        }
      },
      "cell_type": "code",
      "source": [
        "g=True\n",
        "h=False\n",
        "print(g,h)"
      ],
      "execution_count": null,
      "outputs": [
        {
          "output_type": "stream",
          "text": [
            "True False\n"
          ],
          "name": "stdout"
        }
      ]
    },
    {
      "metadata": {
        "id": "VC25kdFmC-6O",
        "outputId": "ec8e34fe-b2f2-4c16-f477-84a127ca4efc",
        "colab": {
          "base_uri": "https://localhost:8080/",
          "height": 34
        }
      },
      "cell_type": "code",
      "source": [
        "print(x,y)\n"
      ],
      "execution_count": null,
      "outputs": [
        {
          "output_type": "stream",
          "text": [
            "10 20\n"
          ],
          "name": "stdout"
        }
      ]
    },
    {
      "metadata": {
        "id": "Kd-m3kquDVE9",
        "outputId": "f19851ae-a3f2-478c-8e68-10620f9d0557",
        "colab": {
          "base_uri": "https://localhost:8080/",
          "height": 34
        }
      },
      "cell_type": "code",
      "source": [
        "x>y"
      ],
      "execution_count": null,
      "outputs": [
        {
          "output_type": "execute_result",
          "data": {
            "text/plain": [
              "False"
            ]
          },
          "metadata": {
            "tags": []
          },
          "execution_count": 16
        }
      ]
    },
    {
      "metadata": {
        "id": "VtzvAeufDY8l",
        "outputId": "1ce5c7c5-40e3-4db3-9baa-6cdf4d264aee",
        "colab": {
          "base_uri": "https://localhost:8080/",
          "height": 34
        }
      },
      "cell_type": "code",
      "source": [
        "x<y"
      ],
      "execution_count": null,
      "outputs": [
        {
          "output_type": "execute_result",
          "data": {
            "text/plain": [
              "True"
            ]
          },
          "metadata": {
            "tags": []
          },
          "execution_count": 17
        }
      ]
    },
    {
      "metadata": {
        "id": "F-FdX18BDfet",
        "outputId": "7beda542-2832-48d1-c821-f81034d27c70",
        "colab": {
          "base_uri": "https://localhost:8080/",
          "height": 34
        }
      },
      "cell_type": "code",
      "source": [
        "x==y"
      ],
      "execution_count": null,
      "outputs": [
        {
          "output_type": "execute_result",
          "data": {
            "text/plain": [
              "False"
            ]
          },
          "metadata": {
            "tags": []
          },
          "execution_count": 18
        }
      ]
    },
    {
      "metadata": {
        "id": "14GF4DxTDoZm",
        "outputId": "a333eb58-9338-4c2f-9576-3fe4ab3f2c8c",
        "colab": {
          "base_uri": "https://localhost:8080/",
          "height": 34
        }
      },
      "cell_type": "code",
      "source": [
        "x>=y"
      ],
      "execution_count": null,
      "outputs": [
        {
          "output_type": "execute_result",
          "data": {
            "text/plain": [
              "False"
            ]
          },
          "metadata": {
            "tags": []
          },
          "execution_count": 19
        }
      ]
    },
    {
      "metadata": {
        "id": "mhPbsn_BDuql",
        "outputId": "d669d29f-1c99-4a51-d772-62d663366a8d",
        "colab": {
          "base_uri": "https://localhost:8080/",
          "height": 34
        }
      },
      "cell_type": "code",
      "source": [
        "x<=y"
      ],
      "execution_count": null,
      "outputs": [
        {
          "output_type": "execute_result",
          "data": {
            "text/plain": [
              "True"
            ]
          },
          "metadata": {
            "tags": []
          },
          "execution_count": 20
        }
      ]
    },
    {
      "metadata": {
        "id": "efthmc1QDw0s",
        "outputId": "54bb6028-bafa-475b-9979-77602581a3a1",
        "colab": {
          "base_uri": "https://localhost:8080/",
          "height": 34
        }
      },
      "cell_type": "code",
      "source": [
        "x>y and x<y"
      ],
      "execution_count": null,
      "outputs": [
        {
          "output_type": "execute_result",
          "data": {
            "text/plain": [
              "False"
            ]
          },
          "metadata": {
            "tags": []
          },
          "execution_count": 21
        }
      ]
    },
    {
      "metadata": {
        "id": "Uqvg1cjuEA5s",
        "outputId": "de77f0da-35c9-44f3-da1e-3602dfc1eb93",
        "colab": {
          "base_uri": "https://localhost:8080/",
          "height": 34
        }
      },
      "cell_type": "code",
      "source": [
        "x>y or y<z"
      ],
      "execution_count": null,
      "outputs": [
        {
          "output_type": "execute_result",
          "data": {
            "text/plain": [
              "True"
            ]
          },
          "metadata": {
            "tags": []
          },
          "execution_count": 22
        }
      ]
    },
    {
      "metadata": {
        "id": "XA8tgL8LENA8",
        "outputId": "4f8916cd-e7ae-4c0e-b92f-56ce7b35974b",
        "colab": {
          "base_uri": "https://localhost:8080/",
          "height": 34
        }
      },
      "cell_type": "code",
      "source": [
        "x!=y"
      ],
      "execution_count": null,
      "outputs": [
        {
          "output_type": "execute_result",
          "data": {
            "text/plain": [
              "True"
            ]
          },
          "metadata": {
            "tags": []
          },
          "execution_count": 23
        }
      ]
    },
    {
      "metadata": {
        "id": "TMQEteXaEa0z",
        "outputId": "dadca4a2-e666-48aa-cb03-109b5130ae6f",
        "colab": {
          "base_uri": "https://localhost:8080/",
          "height": 34
        }
      },
      "cell_type": "code",
      "source": [
        "not x<y"
      ],
      "execution_count": null,
      "outputs": [
        {
          "output_type": "execute_result",
          "data": {
            "text/plain": [
              "False"
            ]
          },
          "metadata": {
            "tags": []
          },
          "execution_count": 24
        }
      ]
    },
    {
      "metadata": {
        "id": "UeLd__JxElYs"
      },
      "cell_type": "code",
      "source": [
        "s=\"abcdefghijklmnopqrstuvwxyz\""
      ],
      "execution_count": null,
      "outputs": []
    },
    {
      "metadata": {
        "id": "0O-hZEKAFGEz",
        "outputId": "4a1d6eec-4437-4c20-f4e8-d75ea12e51e0",
        "colab": {
          "base_uri": "https://localhost:8080/",
          "height": 34
        }
      },
      "cell_type": "code",
      "source": [
        "s[0]"
      ],
      "execution_count": null,
      "outputs": [
        {
          "output_type": "execute_result",
          "data": {
            "text/plain": [
              "'a'"
            ]
          },
          "metadata": {
            "tags": []
          },
          "execution_count": 26
        }
      ]
    },
    {
      "metadata": {
        "id": "5CyIyKSgN3-B"
      },
      "cell_type": "code",
      "source": [
        ""
      ],
      "execution_count": null,
      "outputs": []
    },
    {
      "metadata": {
        "id": "q7uj1xuzFK2L",
        "outputId": "442ea823-ae3e-4a8a-e49e-809e994aa339",
        "colab": {
          "base_uri": "https://localhost:8080/",
          "height": 34
        }
      },
      "cell_type": "code",
      "source": [
        "s[2]"
      ],
      "execution_count": null,
      "outputs": [
        {
          "output_type": "execute_result",
          "data": {
            "text/plain": [
              "'c'"
            ]
          },
          "metadata": {
            "tags": []
          },
          "execution_count": 28
        }
      ]
    },
    {
      "metadata": {
        "id": "qBXs-TzyFOoC",
        "outputId": "d42a62e1-b21d-43f6-b3bc-66bc04f0455a",
        "colab": {
          "base_uri": "https://localhost:8080/",
          "height": 34
        }
      },
      "cell_type": "code",
      "source": [
        "s[-1]"
      ],
      "execution_count": null,
      "outputs": [
        {
          "output_type": "execute_result",
          "data": {
            "text/plain": [
              "'z'"
            ]
          },
          "metadata": {
            "tags": []
          },
          "execution_count": 29
        }
      ]
    },
    {
      "metadata": {
        "id": "pIhXIBKQFkbR",
        "outputId": "0590560d-370f-4fbe-c523-035788a030db",
        "colab": {
          "base_uri": "https://localhost:8080/",
          "height": 34
        }
      },
      "cell_type": "code",
      "source": [
        "s[3:10]"
      ],
      "execution_count": null,
      "outputs": [
        {
          "output_type": "execute_result",
          "data": {
            "text/plain": [
              "'defghig'"
            ]
          },
          "metadata": {
            "tags": []
          },
          "execution_count": 30
        }
      ]
    },
    {
      "metadata": {
        "id": "m8L4973RF3mg",
        "outputId": "dbb7800b-b5d6-4a64-c46f-9306f623f485",
        "colab": {
          "base_uri": "https://localhost:8080/",
          "height": 34
        }
      },
      "cell_type": "code",
      "source": [
        "s[5:13]"
      ],
      "execution_count": null,
      "outputs": [
        {
          "output_type": "execute_result",
          "data": {
            "text/plain": [
              "'fghigklm'"
            ]
          },
          "metadata": {
            "tags": []
          },
          "execution_count": 31
        }
      ]
    },
    {
      "metadata": {
        "id": "6SYiY2_PGJjh",
        "outputId": "a593c8d5-0dfb-4be2-9980-82418a42d283",
        "colab": {
          "base_uri": "https://localhost:8080/",
          "height": 34
        }
      },
      "cell_type": "code",
      "source": [
        "len(s)"
      ],
      "execution_count": null,
      "outputs": [
        {
          "output_type": "execute_result",
          "data": {
            "text/plain": [
              "26"
            ]
          },
          "metadata": {
            "tags": []
          },
          "execution_count": 32
        }
      ]
    },
    {
      "metadata": {
        "id": "1Y0k61xxGOwQ",
        "outputId": "97a0c8bb-73ca-4722-dee9-991a29f9b515",
        "colab": {
          "base_uri": "https://localhost:8080/",
          "height": 34
        }
      },
      "cell_type": "code",
      "source": [
        "s[5:15:2]"
      ],
      "execution_count": null,
      "outputs": [
        {
          "output_type": "execute_result",
          "data": {
            "text/plain": [
              "'fhgln'"
            ]
          },
          "metadata": {
            "tags": []
          },
          "execution_count": 33
        }
      ]
    },
    {
      "metadata": {
        "id": "_qe9zw28GcdZ",
        "outputId": "b7d476d3-3798-410f-918e-337d6ae3a58f",
        "colab": {
          "base_uri": "https://localhost:8080/",
          "height": 34
        }
      },
      "cell_type": "code",
      "source": [
        "s[6:25:3]"
      ],
      "execution_count": null,
      "outputs": [
        {
          "output_type": "execute_result",
          "data": {
            "text/plain": [
              "'ggmpsvy'"
            ]
          },
          "metadata": {
            "tags": []
          },
          "execution_count": 34
        }
      ]
    },
    {
      "metadata": {
        "id": "OLPF-h-pGp6f",
        "outputId": "0c09236b-486f-4616-b182-917b4b20bc10",
        "colab": {
          "base_uri": "https://localhost:8080/",
          "height": 34
        }
      },
      "cell_type": "code",
      "source": [
        "s[:25:3]"
      ],
      "execution_count": null,
      "outputs": [
        {
          "output_type": "execute_result",
          "data": {
            "text/plain": [
              "'adggmpsvy'"
            ]
          },
          "metadata": {
            "tags": []
          },
          "execution_count": 35
        }
      ]
    },
    {
      "metadata": {
        "id": "VBkn3wmcG3MP",
        "outputId": "5416be50-c7b6-4ab0-c892-d9d43d199f3b",
        "colab": {
          "base_uri": "https://localhost:8080/",
          "height": 34
        }
      },
      "cell_type": "code",
      "source": [
        "s[6::3]"
      ],
      "execution_count": null,
      "outputs": [
        {
          "output_type": "execute_result",
          "data": {
            "text/plain": [
              "'ggmpsvy'"
            ]
          },
          "metadata": {
            "tags": []
          },
          "execution_count": 36
        }
      ]
    },
    {
      "metadata": {
        "id": "DojV7NCYG9y-",
        "outputId": "deded68f-8d15-4671-9b4e-5ad469ff7711",
        "colab": {
          "base_uri": "https://localhost:8080/",
          "height": 34
        }
      },
      "cell_type": "code",
      "source": [
        "s[::3]"
      ],
      "execution_count": null,
      "outputs": [
        {
          "output_type": "execute_result",
          "data": {
            "text/plain": [
              "'adggmpsvy'"
            ]
          },
          "metadata": {
            "tags": []
          },
          "execution_count": 37
        }
      ]
    },
    {
      "metadata": {
        "id": "ymQcl8aUHBW_",
        "outputId": "e7323337-f34a-4d61-9d6b-cfab4b1d370a",
        "colab": {
          "base_uri": "https://localhost:8080/",
          "height": 34
        }
      },
      "cell_type": "code",
      "source": [
        "s[::5]"
      ],
      "execution_count": null,
      "outputs": [
        {
          "output_type": "execute_result",
          "data": {
            "text/plain": [
              "'afkpuz'"
            ]
          },
          "metadata": {
            "tags": []
          },
          "execution_count": 38
        }
      ]
    },
    {
      "metadata": {
        "id": "-E2j9skqHIZv",
        "outputId": "c57fe598-bb97-4876-da4e-e23fa3811ddb",
        "colab": {
          "base_uri": "https://localhost:8080/",
          "height": 34
        }
      },
      "cell_type": "code",
      "source": [
        "s[::-1]"
      ],
      "execution_count": null,
      "outputs": [
        {
          "output_type": "execute_result",
          "data": {
            "text/plain": [
              "'zyxwvutsrqponmlkgihgfedcba'"
            ]
          },
          "metadata": {
            "tags": []
          },
          "execution_count": 39
        }
      ]
    },
    {
      "metadata": {
        "id": "mCZqE4FMHPe-"
      },
      "cell_type": "code",
      "source": [
        "s=\"malayalam\""
      ],
      "execution_count": null,
      "outputs": []
    },
    {
      "metadata": {
        "id": "ZinBZE9AHaF-",
        "outputId": "0b81b837-a34f-44c5-d2c2-cfd5232db08d",
        "colab": {
          "base_uri": "https://localhost:8080/",
          "height": 34
        }
      },
      "cell_type": "code",
      "source": [
        "s[::-1]"
      ],
      "execution_count": null,
      "outputs": [
        {
          "output_type": "execute_result",
          "data": {
            "text/plain": [
              "'malayalam'"
            ]
          },
          "metadata": {
            "tags": []
          },
          "execution_count": 41
        }
      ]
    },
    {
      "metadata": {
        "id": "yYmpjTxmHkcm",
        "outputId": "e158ec58-326f-4398-8b93-66154ffa6408",
        "colab": {
          "base_uri": "https://localhost:8080/",
          "height": 34
        }
      },
      "cell_type": "code",
      "source": [
        "s==s[::-1]"
      ],
      "execution_count": null,
      "outputs": [
        {
          "output_type": "execute_result",
          "data": {
            "text/plain": [
              "True"
            ]
          },
          "metadata": {
            "tags": []
          },
          "execution_count": 42
        }
      ]
    },
    {
      "metadata": {
        "id": "GCXWCaMzHwL2"
      },
      "cell_type": "code",
      "source": [
        "l=[1,2,3,4,5,6,7,8,9]"
      ],
      "execution_count": null,
      "outputs": []
    },
    {
      "metadata": {
        "id": "yyetJJjaKfOv"
      },
      "cell_type": "code",
      "source": [
        "m=[1,3,14,\"hello\",[1,2,3]]"
      ],
      "execution_count": null,
      "outputs": []
    },
    {
      "metadata": {
        "id": "WfR8ZT93Kx55",
        "outputId": "cc1c87e8-0946-4d77-e78a-aed7561905bf",
        "colab": {
          "base_uri": "https://localhost:8080/",
          "height": 34
        }
      },
      "cell_type": "code",
      "source": [
        "m"
      ],
      "execution_count": null,
      "outputs": [
        {
          "output_type": "execute_result",
          "data": {
            "text/plain": [
              "[1, 3, 14, 'hello', [1, 2, 3]]"
            ]
          },
          "metadata": {
            "tags": []
          },
          "execution_count": 45
        }
      ]
    },
    {
      "metadata": {
        "id": "Nn28edVLKyxQ",
        "outputId": "0bf9a1f5-97c6-496d-9c48-7d553dfab5e9",
        "colab": {
          "base_uri": "https://localhost:8080/",
          "height": 34
        }
      },
      "cell_type": "code",
      "source": [
        "l[2:6]"
      ],
      "execution_count": null,
      "outputs": [
        {
          "output_type": "execute_result",
          "data": {
            "text/plain": [
              "[3, 4, 5, 6]"
            ]
          },
          "metadata": {
            "tags": []
          },
          "execution_count": 46
        }
      ]
    },
    {
      "metadata": {
        "id": "jolUCv-zK4-_",
        "outputId": "a64a93d5-443f-427c-cb11-74b368d3d7c6",
        "colab": {
          "base_uri": "https://localhost:8080/",
          "height": 34
        }
      },
      "cell_type": "code",
      "source": [
        "l[-1]"
      ],
      "execution_count": null,
      "outputs": [
        {
          "output_type": "execute_result",
          "data": {
            "text/plain": [
              "9"
            ]
          },
          "metadata": {
            "tags": []
          },
          "execution_count": 47
        }
      ]
    },
    {
      "metadata": {
        "id": "lzuhj-PpLcL_",
        "outputId": "cf30935a-4e49-46aa-c459-114731a7840f",
        "colab": {
          "base_uri": "https://localhost:8080/",
          "height": 34
        }
      },
      "cell_type": "code",
      "source": [
        "l.pop()"
      ],
      "execution_count": null,
      "outputs": [
        {
          "output_type": "execute_result",
          "data": {
            "text/plain": [
              "9"
            ]
          },
          "metadata": {
            "tags": []
          },
          "execution_count": 48
        }
      ]
    },
    {
      "metadata": {
        "id": "75I66Uf-LhQe",
        "outputId": "2626288b-cba7-414b-8d8c-c9a3054f74a2",
        "colab": {
          "base_uri": "https://localhost:8080/",
          "height": 34
        }
      },
      "cell_type": "code",
      "source": [
        "l"
      ],
      "execution_count": null,
      "outputs": [
        {
          "output_type": "execute_result",
          "data": {
            "text/plain": [
              "[1, 2, 3, 4, 5, 6, 7, 8]"
            ]
          },
          "metadata": {
            "tags": []
          },
          "execution_count": 49
        }
      ]
    },
    {
      "metadata": {
        "id": "k-dJlhwyLjh2"
      },
      "cell_type": "code",
      "source": [
        "l.append(9)"
      ],
      "execution_count": null,
      "outputs": []
    },
    {
      "metadata": {
        "id": "wzbwBTkHLr8H",
        "outputId": "851c13aa-3fe7-4bdb-addf-2e396f18595f",
        "colab": {
          "base_uri": "https://localhost:8080/",
          "height": 34
        }
      },
      "cell_type": "code",
      "source": [
        "l"
      ],
      "execution_count": null,
      "outputs": [
        {
          "output_type": "execute_result",
          "data": {
            "text/plain": [
              "[1, 2, 3, 4, 5, 6, 7, 8, 9]"
            ]
          },
          "metadata": {
            "tags": []
          },
          "execution_count": 51
        }
      ]
    },
    {
      "metadata": {
        "id": "8uTGJzIwLtD2"
      },
      "cell_type": "code",
      "source": [
        "l.insert(3,10)"
      ],
      "execution_count": null,
      "outputs": []
    },
    {
      "metadata": {
        "id": "XjVjQBR6MaZl",
        "outputId": "3f302dae-ebad-492d-c702-50a4cd2e79e6",
        "colab": {
          "base_uri": "https://localhost:8080/",
          "height": 34
        }
      },
      "cell_type": "code",
      "source": [
        "l"
      ],
      "execution_count": null,
      "outputs": [
        {
          "output_type": "execute_result",
          "data": {
            "text/plain": [
              "[1, 2, 3, 10, 4, 5, 6, 7, 8, 9]"
            ]
          },
          "metadata": {
            "tags": []
          },
          "execution_count": 53
        }
      ]
    },
    {
      "metadata": {
        "id": "7a8HcHV_Mbok",
        "outputId": "69d00e9e-97e4-4997-a6c3-307b7f5ce9b6",
        "colab": {
          "base_uri": "https://localhost:8080/",
          "height": 34
        }
      },
      "cell_type": "code",
      "source": [
        "l.pop(3)"
      ],
      "execution_count": null,
      "outputs": [
        {
          "output_type": "execute_result",
          "data": {
            "text/plain": [
              "10"
            ]
          },
          "metadata": {
            "tags": []
          },
          "execution_count": 54
        }
      ]
    },
    {
      "metadata": {
        "id": "CngowPBBMlU9",
        "outputId": "fac27d09-8c17-491c-b118-b9b783a76d32",
        "colab": {
          "base_uri": "https://localhost:8080/",
          "height": 34
        }
      },
      "cell_type": "code",
      "source": [
        "l"
      ],
      "execution_count": null,
      "outputs": [
        {
          "output_type": "execute_result",
          "data": {
            "text/plain": [
              "[1, 2, 3, 4, 5, 6, 7, 8, 9]"
            ]
          },
          "metadata": {
            "tags": []
          },
          "execution_count": 55
        }
      ]
    },
    {
      "metadata": {
        "id": "NeuI1toyMmac"
      },
      "cell_type": "code",
      "source": [
        "l.insert(0,10)"
      ],
      "execution_count": null,
      "outputs": []
    },
    {
      "metadata": {
        "id": "C8rqwvi-MuHb",
        "outputId": "366efd6a-0590-4c39-eb97-5524821e8fe7",
        "colab": {
          "base_uri": "https://localhost:8080/",
          "height": 34
        }
      },
      "cell_type": "code",
      "source": [
        "l"
      ],
      "execution_count": null,
      "outputs": [
        {
          "output_type": "execute_result",
          "data": {
            "text/plain": [
              "[10, 1, 2, 3, 4, 5, 6, 7, 8, 9]"
            ]
          },
          "metadata": {
            "tags": []
          },
          "execution_count": 57
        }
      ]
    },
    {
      "metadata": {
        "id": "_xXXFLPEMvI0"
      },
      "cell_type": "code",
      "source": [
        "l[5]=100"
      ],
      "execution_count": null,
      "outputs": []
    },
    {
      "metadata": {
        "id": "k4UjcmySNAUc",
        "outputId": "e0d4c69e-8515-4547-f229-dad9c090f638",
        "colab": {
          "base_uri": "https://localhost:8080/",
          "height": 34
        }
      },
      "cell_type": "code",
      "source": [
        "l"
      ],
      "execution_count": null,
      "outputs": [
        {
          "output_type": "execute_result",
          "data": {
            "text/plain": [
              "[10, 1, 2, 3, 4, 100, 6, 7, 8, 9]"
            ]
          },
          "metadata": {
            "tags": []
          },
          "execution_count": 59
        }
      ]
    },
    {
      "metadata": {
        "id": "oM7tD7W5NBKr",
        "outputId": "6fac7941-e252-4b45-85af-ed05928db8e7",
        "colab": {
          "base_uri": "https://localhost:8080/",
          "height": 34
        }
      },
      "cell_type": "code",
      "source": [
        "l[5]=6\n",
        "print(l)"
      ],
      "execution_count": null,
      "outputs": [
        {
          "output_type": "stream",
          "text": [
            "[10, 1, 2, 3, 4, 6, 6, 7, 8, 9]\n"
          ],
          "name": "stdout"
        }
      ]
    },
    {
      "metadata": {
        "id": "XpIXLg0kNRdk",
        "outputId": "915faa1c-3566-426b-ed2d-671ab8393839",
        "colab": {
          "base_uri": "https://localhost:8080/",
          "height": 34
        }
      },
      "cell_type": "code",
      "source": [
        "l.extend([10,11,12])\n",
        "print(l)"
      ],
      "execution_count": null,
      "outputs": [
        {
          "output_type": "stream",
          "text": [
            "[10, 1, 2, 3, 4, 6, 6, 7, 8, 9, 10, 11, 12]\n"
          ],
          "name": "stdout"
        }
      ]
    },
    {
      "metadata": {
        "id": "faLVzekkNjJz"
      },
      "cell_type": "code",
      "source": [
        "t=(1,2,3,4,5,6,7,8,9)"
      ],
      "execution_count": null,
      "outputs": []
    },
    {
      "metadata": {
        "id": "6ArarhrLNrl6",
        "outputId": "7a83ab52-0159-4274-d2f3-2605b860e4f1",
        "colab": {
          "base_uri": "https://localhost:8080/",
          "height": 163
        }
      },
      "cell_type": "code",
      "source": [
        "t[4]=100"
      ],
      "execution_count": null,
      "outputs": [
        {
          "output_type": "error",
          "ename": "TypeError",
          "evalue": "ignored",
          "traceback": [
            "\u001b[0;31m---------------------------------------------------------------------------\u001b[0m",
            "\u001b[0;31mTypeError\u001b[0m                                 Traceback (most recent call last)",
            "\u001b[0;32m<ipython-input-63-d4677b2b9464>\u001b[0m in \u001b[0;36m<module>\u001b[0;34m()\u001b[0m\n\u001b[0;32m----> 1\u001b[0;31m \u001b[0mt\u001b[0m\u001b[0;34m[\u001b[0m\u001b[0;36m4\u001b[0m\u001b[0;34m]\u001b[0m\u001b[0;34m=\u001b[0m\u001b[0;36m100\u001b[0m\u001b[0;34m\u001b[0m\u001b[0;34m\u001b[0m\u001b[0m\n\u001b[0m",
            "\u001b[0;31mTypeError\u001b[0m: 'tuple' object does not support item assignment"
          ]
        }
      ]
    },
    {
      "metadata": {
        "id": "oMcEBGCENx6j",
        "outputId": "ec0e14d4-83c4-440e-bf82-b85d3b82ebb6",
        "colab": {
          "base_uri": "https://localhost:8080/",
          "height": 129
        }
      },
      "cell_type": "code",
      "source": [
        "d(1:10,3.14:65,'h':'hello','abc':3)"
      ],
      "execution_count": null,
      "outputs": [
        {
          "output_type": "error",
          "ename": "SyntaxError",
          "evalue": "ignored",
          "traceback": [
            "\u001b[0;36m  File \u001b[0;32m\"<ipython-input-66-8c243bfec0d8>\"\u001b[0;36m, line \u001b[0;32m1\u001b[0m\n\u001b[0;31m    d(1:10,3.14:65,'h':'hello','abc':3)\u001b[0m\n\u001b[0m       ^\u001b[0m\n\u001b[0;31mSyntaxError\u001b[0m\u001b[0;31m:\u001b[0m invalid syntax\n"
          ]
        }
      ]
    },
    {
      "metadata": {
        "id": "aTlZzWkfOzcg",
        "outputId": "4454f140-7057-4bae-d961-f67dc5663c4b",
        "colab": {
          "base_uri": "https://localhost:8080/",
          "height": 34
        }
      },
      "cell_type": "code",
      "source": [
        "x,y,z=10,20,30\n",
        "print(x,y,z)"
      ],
      "execution_count": null,
      "outputs": [
        {
          "output_type": "stream",
          "text": [
            "10 20 30\n"
          ],
          "name": "stdout"
        }
      ]
    },
    {
      "metadata": {
        "id": "N8cSiAmkQjZ-"
      },
      "cell_type": "code",
      "source": [
        "x,y=y,x"
      ],
      "execution_count": null,
      "outputs": []
    },
    {
      "metadata": {
        "id": "atSCB3iPQpcd",
        "outputId": "3a5cb68e-601c-4651-85b5-05fd8f3ec5e5",
        "colab": {
          "base_uri": "https://localhost:8080/",
          "height": 34
        }
      },
      "cell_type": "code",
      "source": [
        "print(x,y)"
      ],
      "execution_count": null,
      "outputs": [
        {
          "output_type": "stream",
          "text": [
            "20 10\n"
          ],
          "name": "stdout"
        }
      ]
    },
    {
      "metadata": {
        "id": "SgXQNFfWQuC1"
      },
      "cell_type": "code",
      "source": [
        "x,y,z=z,x,y"
      ],
      "execution_count": null,
      "outputs": []
    },
    {
      "metadata": {
        "id": "uRcYHRf-Q2iN",
        "outputId": "f50b79a7-193d-4085-b1b7-d52349780d8a",
        "colab": {
          "base_uri": "https://localhost:8080/",
          "height": 34
        }
      },
      "cell_type": "code",
      "source": [
        "print(x,y,z)"
      ],
      "execution_count": null,
      "outputs": [
        {
          "output_type": "stream",
          "text": [
            "30 20 10\n"
          ],
          "name": "stdout"
        }
      ]
    },
    {
      "metadata": {
        "id": "rtSI2nFUQ6pt",
        "outputId": "58b8b8a7-05b5-4738-937f-b32c106abfee",
        "colab": {
          "base_uri": "https://localhost:8080/",
          "height": 34
        }
      },
      "cell_type": "code",
      "source": [
        "s=\"malayalam\"\n",
        "if s==s[::-1]:\n",
        "  print(s, \"is a palindrome\")\n",
        "else:\n",
        "  print(s,\"is not a palindrome\")"
      ],
      "execution_count": null,
      "outputs": [
        {
          "output_type": "stream",
          "text": [
            "malayalam is a palindrome\n"
          ],
          "name": "stdout"
        }
      ]
    },
    {
      "metadata": {
        "id": "05yVGkH1SYpD",
        "outputId": "2a93cd60-2036-4bc9-b895-09deda40d93f",
        "colab": {
          "base_uri": "https://localhost:8080/",
          "height": 102
        }
      },
      "cell_type": "code",
      "source": [
        "for i in [1,2,3,4,5]:\n",
        "  print(i)\n",
        "  "
      ],
      "execution_count": null,
      "outputs": [
        {
          "output_type": "stream",
          "text": [
            "1\n",
            "2\n",
            "3\n",
            "4\n",
            "5\n"
          ],
          "name": "stdout"
        }
      ]
    },
    {
      "metadata": {
        "id": "0-IJ2rLTS9Gy",
        "outputId": "1a36c9e5-6e2e-4c6e-9340-f38c9447a9f2",
        "colab": {
          "base_uri": "https://localhost:8080/",
          "height": 34
        }
      },
      "cell_type": "code",
      "source": [
        "print(range(10))"
      ],
      "execution_count": null,
      "outputs": [
        {
          "output_type": "stream",
          "text": [
            "range(0, 10)\n"
          ],
          "name": "stdout"
        }
      ]
    },
    {
      "metadata": {
        "id": "2LPkTr45TVqA",
        "outputId": "a16950ee-8d8a-4b9c-dae4-3b15ea20d0a0",
        "colab": {
          "base_uri": "https://localhost:8080/",
          "height": 34
        }
      },
      "cell_type": "code",
      "source": [
        "print(list(range(1,11,2)))"
      ],
      "execution_count": null,
      "outputs": [
        {
          "output_type": "stream",
          "text": [
            "[1, 3, 5, 7, 9]\n"
          ],
          "name": "stdout"
        }
      ]
    },
    {
      "metadata": {
        "id": "A6NxUn72TdAJ",
        "outputId": "93002922-4be0-408f-fb7d-3a3794f15ee5",
        "colab": {
          "base_uri": "https://localhost:8080/",
          "height": 102
        }
      },
      "cell_type": "code",
      "source": [
        "for i in range (1,6):\n",
        "  print(i)"
      ],
      "execution_count": null,
      "outputs": [
        {
          "output_type": "stream",
          "text": [
            "1\n",
            "2\n",
            "3\n",
            "4\n",
            "5\n"
          ],
          "name": "stdout"
        }
      ]
    },
    {
      "metadata": {
        "id": "Kl_7lLSjT4sH",
        "outputId": "55a85db5-eb28-4726-a6f1-a14376ea5248",
        "colab": {
          "base_uri": "https://localhost:8080/",
          "height": 34
        }
      },
      "cell_type": "code",
      "source": [
        "for i in range(1,6):\n",
        "   print(i,end=' ')"
      ],
      "execution_count": null,
      "outputs": [
        {
          "output_type": "stream",
          "text": [
            "1 2 3 4 5 "
          ],
          "name": "stdout"
        }
      ]
    },
    {
      "metadata": {
        "id": "OW3X887kUMSf",
        "outputId": "80179717-19d0-4d23-8710-409356bca68c",
        "colab": {
          "base_uri": "https://localhost:8080/",
          "height": 102
        }
      },
      "cell_type": "code",
      "source": [
        "i=1\n",
        "while(i<6):\n",
        "  print(i)\n",
        "  i+=1"
      ],
      "execution_count": null,
      "outputs": [
        {
          "output_type": "stream",
          "text": [
            "1\n",
            "2\n",
            "3\n",
            "4\n",
            "5\n"
          ],
          "name": "stdout"
        }
      ]
    },
    {
      "metadata": {
        "id": "5U1Zp5doU4xG",
        "outputId": "6039c886-6900-4a88-8b13-8f8bb3ce006b",
        "colab": {
          "base_uri": "https://localhost:8080/",
          "height": 357
        }
      },
      "cell_type": "code",
      "source": [
        "for i in range(1,21):\n",
        "  print (list(range (1,20,3)))"
      ],
      "execution_count": null,
      "outputs": [
        {
          "output_type": "stream",
          "text": [
            "[1, 4, 7, 10, 13, 16, 19]\n",
            "[1, 4, 7, 10, 13, 16, 19]\n",
            "[1, 4, 7, 10, 13, 16, 19]\n",
            "[1, 4, 7, 10, 13, 16, 19]\n",
            "[1, 4, 7, 10, 13, 16, 19]\n",
            "[1, 4, 7, 10, 13, 16, 19]\n",
            "[1, 4, 7, 10, 13, 16, 19]\n",
            "[1, 4, 7, 10, 13, 16, 19]\n",
            "[1, 4, 7, 10, 13, 16, 19]\n",
            "[1, 4, 7, 10, 13, 16, 19]\n",
            "[1, 4, 7, 10, 13, 16, 19]\n",
            "[1, 4, 7, 10, 13, 16, 19]\n",
            "[1, 4, 7, 10, 13, 16, 19]\n",
            "[1, 4, 7, 10, 13, 16, 19]\n",
            "[1, 4, 7, 10, 13, 16, 19]\n",
            "[1, 4, 7, 10, 13, 16, 19]\n",
            "[1, 4, 7, 10, 13, 16, 19]\n",
            "[1, 4, 7, 10, 13, 16, 19]\n",
            "[1, 4, 7, 10, 13, 16, 19]\n",
            "[1, 4, 7, 10, 13, 16, 19]\n"
          ],
          "name": "stdout"
        }
      ]
    },
    {
      "metadata": {
        "id": "bhDOCuRhVVZ9",
        "outputId": "9e033fc8-7d11-4d81-d967-eec9b3618ecd",
        "colab": {
          "base_uri": "https://localhost:8080/",
          "height": 136
        }
      },
      "cell_type": "code",
      "source": [
        "i=1\n",
        "while(i<21):\n",
        "  print(i)\n",
        "  i+=3"
      ],
      "execution_count": null,
      "outputs": [
        {
          "output_type": "stream",
          "text": [
            "1\n",
            "4\n",
            "7\n",
            "10\n",
            "13\n",
            "16\n",
            "19\n"
          ],
          "name": "stdout"
        }
      ]
    },
    {
      "metadata": {
        "id": "A-ZXFL0wrEj-"
      },
      "cell_type": "code",
      "source": [
        ""
      ],
      "execution_count": null,
      "outputs": []
    },
    {
      "metadata": {
        "id": "VPCbkLGDVw-E"
      },
      "cell_type": "code",
      "source": [
        "def  isPalindrome(s):\n",
        "  if s==s[::-1]:\n",
        "    return s+ \"is a palindrome\"\n",
        "  else:\n",
        "    return s+ \"is a palindrome\""
      ],
      "execution_count": null,
      "outputs": []
    },
    {
      "metadata": {
        "id": "WTLXHp3TYOQn",
        "outputId": "1b0a0f70-3e57-4904-d260-238de5a04390",
        "colab": {
          "base_uri": "https://localhost:8080/",
          "height": 34
        }
      },
      "cell_type": "code",
      "source": [
        "s=\"malayalam\"\n",
        "print(isPalindrome(s))\n"
      ],
      "execution_count": null,
      "outputs": [
        {
          "output_type": "stream",
          "text": [
            "malayalamis a palindrome\n"
          ],
          "name": "stdout"
        }
      ]
    },
    {
      "metadata": {
        "id": "09EE6k-yYi4n"
      },
      "cell_type": "code",
      "source": [
        "def fact(n):\n",
        "  p=1\n",
        "  for i in range(1, n+1):\n",
        "    p*=1\n",
        "  return p"
      ],
      "execution_count": null,
      "outputs": []
    },
    {
      "metadata": {
        "id": "xYIfqm7SaDa0",
        "outputId": "b29411e4-4b69-4be6-add3-abc3fbfb2cc3",
        "colab": {
          "base_uri": "https://localhost:8080/",
          "height": 34
        }
      },
      "cell_type": "code",
      "source": [
        "print(fact(10))"
      ],
      "execution_count": null,
      "outputs": [
        {
          "output_type": "stream",
          "text": [
            "1\n"
          ],
          "name": "stdout"
        }
      ]
    },
    {
      "metadata": {
        "id": "QzjsyXXXaKWj"
      },
      "cell_type": "code",
      "source": [
        "def fact r(n):\n",
        "  if n==1:\n",
        "    return 1\n",
        "  else\n",
        "  "
      ],
      "execution_count": null,
      "outputs": []
    },
    {
      "metadata": {
        "id": "ub_PRoWKbOQW"
      },
      "cell_type": "code",
      "source": [
        " "
      ],
      "execution_count": null,
      "outputs": []
    },
    {
      "metadata": {
        "id": "F7Jb10Ti6If3"
      },
      "cell_type": "markdown",
      "source": [
        "given an integer n. write  a function to return the absolute difference b/w n and 21.if n is greater than 21, then return twice the absolute difference"
      ]
    },
    {
      "metadata": {
        "id": "qvN6Ge_b6oWd"
      },
      "cell_type": "code",
      "source": [
        "\n",
        "def fun1(n):\n",
        "  if n>21:\n",
        "    return 2*(n-21)\n",
        "  else:\n",
        "    return (21-n)"
      ],
      "execution_count": null,
      "outputs": []
    },
    {
      "metadata": {
        "id": "0Sa40PMf8ffW",
        "outputId": "8a0d6d3b-bfd0-4535-feb0-0bb1d9b7f466",
        "colab": {
          "base_uri": "https://localhost:8080/",
          "height": 34
        }
      },
      "cell_type": "code",
      "source": [
        "print (fun1(13))"
      ],
      "execution_count": null,
      "outputs": [
        {
          "output_type": "stream",
          "text": [
            "8\n"
          ],
          "name": "stdout"
        }
      ]
    },
    {
      "metadata": {
        "id": "VmP0DLI18k2M"
      },
      "cell_type": "code",
      "source": [
        ""
      ],
      "execution_count": null,
      "outputs": []
    },
    {
      "metadata": {
        "id": "scEWIvjU9Vav"
      },
      "cell_type": "markdown",
      "source": [
        "given two int a & b . write a function to return true if either of them is true is 10 or sum is 10 else return false\n"
      ]
    },
    {
      "metadata": {
        "id": "YNor-cRY91_G"
      },
      "cell_type": "code",
      "source": [
        "def fun2(a,b):\n",
        "  if a==10 or b==10 or a+b==10:\n",
        "    return True\n",
        "  else:\n",
        "    return False\n",
        "  "
      ],
      "execution_count": null,
      "outputs": []
    },
    {
      "metadata": {
        "id": "y_PIBr02-X6a",
        "outputId": "8d1d5170-7061-4c84-d97e-f3356d9e57af",
        "colab": {
          "base_uri": "https://localhost:8080/",
          "height": 34
        }
      },
      "cell_type": "code",
      "source": [
        "print (fun2(4,5))"
      ],
      "execution_count": null,
      "outputs": [
        {
          "output_type": "stream",
          "text": [
            "False\n"
          ],
          "name": "stdout"
        }
      ]
    },
    {
      "metadata": {
        "id": "OOixfYyc_E_H"
      },
      "cell_type": "code",
      "source": [
        "def fun2(a,b):\n",
        "  return (a==10 or b==10 or a+b==10)"
      ],
      "execution_count": null,
      "outputs": []
    },
    {
      "metadata": {
        "id": "zkLMZCen_gGl",
        "outputId": "ac040b5d-d217-4665-9122-b9e7d2934ee7",
        "colab": {
          "base_uri": "https://localhost:8080/",
          "height": 34
        }
      },
      "cell_type": "code",
      "source": [
        "print (fun2(10,30))"
      ],
      "execution_count": null,
      "outputs": [
        {
          "output_type": "stream",
          "text": [
            "True\n"
          ],
          "name": "stdout"
        }
      ]
    },
    {
      "metadata": {
        "id": "j2BElIl7_oO1"
      },
      "cell_type": "code",
      "source": [
        ""
      ],
      "execution_count": null,
      "outputs": []
    },
    {
      "metadata": {
        "id": "KnI_xDJ1_p8d"
      },
      "cell_type": "markdown",
      "source": [
        "given int n. return True if the absolute difference between n and 100 or 200 is less than or equal to 10. otherwise return false.\n"
      ]
    },
    {
      "metadata": {
        "id": "XbaZISpoAA5q"
      },
      "cell_type": "code",
      "source": [
        "def fun3(n):\n",
        "  if n-100<=10 or n-200<=10:\n",
        "    return True\n",
        "  else:\n",
        "    return False"
      ],
      "execution_count": null,
      "outputs": []
    },
    {
      "metadata": {
        "id": "XeF2B_YNAo0S",
        "outputId": "34179b48-ab5d-4187-a99c-15b389339c7b",
        "colab": {
          "base_uri": "https://localhost:8080/",
          "height": 34
        }
      },
      "cell_type": "code",
      "source": [
        "print (fun3(67))"
      ],
      "execution_count": null,
      "outputs": [
        {
          "output_type": "stream",
          "text": [
            "True\n"
          ],
          "name": "stdout"
        }
      ]
    },
    {
      "metadata": {
        "id": "yjBRepnjA2wC"
      },
      "cell_type": "code",
      "source": [
        ""
      ],
      "execution_count": null,
      "outputs": []
    },
    {
      "metadata": {
        "id": "Z3-mkcw1BevC"
      },
      "cell_type": "markdown",
      "source": [
        "given an int n. return the sum of all even int less than or equal to n\n"
      ]
    },
    {
      "metadata": {
        "id": "yTwHxiTlBp8v"
      },
      "cell_type": "code",
      "source": [
        "def sum_even (n):\n",
        "  s=0\n",
        "  for i in range (0,n+1,2):\n",
        "    s+=i\n",
        "    return(s)\n",
        "  \n",
        "    \n",
        "    "
      ],
      "execution_count": null,
      "outputs": []
    },
    {
      "metadata": {
        "id": "k_bTzWLjDGee"
      },
      "cell_type": "code",
      "source": [
        "def fun4(n):\n",
        "  s=0\n",
        "  for i in range (n+1):\n",
        "    if i%2==0:\n",
        "      s+=i\n",
        "      return s"
      ],
      "execution_count": null,
      "outputs": []
    },
    {
      "metadata": {
        "id": "AS36ebcsDIKu"
      },
      "cell_type": "code",
      "source": [
        "def fun5(n):\n",
        "  s=0\n",
        "  i=0\n",
        "  while(i<=n):\n",
        "    s+=i\n",
        "    i+=2\n",
        "    return s"
      ],
      "execution_count": null,
      "outputs": []
    },
    {
      "metadata": {
        "id": "EkpF-s66DOqn"
      },
      "cell_type": "code",
      "source": [
        "\n"
      ],
      "execution_count": null,
      "outputs": []
    },
    {
      "metadata": {
        "id": "X6FQ63cNF4wf"
      },
      "cell_type": "markdown",
      "source": [
        "given n.\n",
        "return the sum of all integers less than or equal to n and which are multiple of 3 0r 5"
      ]
    },
    {
      "metadata": {
        "id": "xJ8a8q_lGLmk"
      },
      "cell_type": "code",
      "source": [
        "def func(n):\n",
        "  s=0\n",
        "  for i in range (0,n+1):\n",
        "    if i%3==0 or i%5==0:\n",
        "      s+=i\n",
        "  return s\n",
        "    "
      ],
      "execution_count": null,
      "outputs": []
    },
    {
      "metadata": {
        "id": "s5REByzfHDju",
        "outputId": "858c31d8-e256-4ff3-fa05-8053e37fa4d1",
        "colab": {
          "base_uri": "https://localhost:8080/",
          "height": 34
        }
      },
      "cell_type": "code",
      "source": [
        "print(func(1000))"
      ],
      "execution_count": null,
      "outputs": [
        {
          "output_type": "stream",
          "text": [
            "234168\n"
          ],
          "name": "stdout"
        }
      ]
    },
    {
      "metadata": {
        "id": "yAKN1mQoHYfn"
      },
      "cell_type": "code",
      "source": [
        "def inter(n):\n",
        "  return n[-1]+n[1:-1]+n[0]"
      ],
      "execution_count": null,
      "outputs": []
    },
    {
      "metadata": {
        "id": "qjaWFE2NIEZe"
      },
      "cell_type": "markdown",
      "source": [
        "given a string. return a new string with the first and last char interchanged"
      ]
    },
    {
      "metadata": {
        "id": "4XyukmS-KK2l",
        "outputId": "b4e29c31-cef3-46cd-b518-18c41e295248",
        "colab": {
          "base_uri": "https://localhost:8080/",
          "height": 34
        }
      },
      "cell_type": "code",
      "source": [
        "print (inter(\"abcdefg\"))\n"
      ],
      "execution_count": null,
      "outputs": [
        {
          "output_type": "stream",
          "text": [
            "gbcdefa\n"
          ],
          "name": "stdout"
        }
      ]
    },
    {
      "metadata": {
        "id": "wNmV9GihKPGq"
      },
      "cell_type": "code",
      "source": [
        ""
      ],
      "execution_count": null,
      "outputs": []
    },
    {
      "metadata": {
        "id": "JVEBaZ9HOhg5"
      },
      "cell_type": "markdown",
      "source": [
        "given a string s return a new string which is made up of 3 copies of the first three characters of s"
      ]
    },
    {
      "metadata": {
        "id": "Wkn7pbJWOyfB"
      },
      "cell_type": "code",
      "source": [
        "def str (s):\n",
        "  return 3*s[0]+3*s[1]+3*s[2]"
      ],
      "execution_count": null,
      "outputs": []
    },
    {
      "metadata": {
        "id": "pbptYcC6Pcqh",
        "outputId": "ade105bc-5eb3-48da-fba4-516b11013373",
        "colab": {
          "base_uri": "https://localhost:8080/",
          "height": 34
        }
      },
      "cell_type": "code",
      "source": [
        "s=\"abcdefg\"\n",
        "print (str(s))"
      ],
      "execution_count": null,
      "outputs": [
        {
          "output_type": "stream",
          "text": [
            "aaabbbccc\n"
          ],
          "name": "stdout"
        }
      ]
    },
    {
      "metadata": {
        "id": "IqKOeHK4PmN4",
        "outputId": "230ae878-2b60-4790-c373-55fa86be6150",
        "colab": {
          "base_uri": "https://localhost:8080/",
          "height": 34
        }
      },
      "cell_type": "code",
      "source": [
        "s=\"abcdefghij\"\n",
        "list(s)"
      ],
      "execution_count": null,
      "outputs": [
        {
          "output_type": "execute_result",
          "data": {
            "text/plain": [
              "['a', 'b', 'c', 'd', 'e', 'f', 'g', 'h', 'i', 'j']"
            ]
          },
          "metadata": {
            "tags": []
          },
          "execution_count": 46
        }
      ]
    },
    {
      "metadata": {
        "id": "hvgK6jSDRAr2"
      },
      "cell_type": "code",
      "source": [
        "def fun6(s,n,m):\n",
        "  l=list(s)\n",
        "  nl=[]\n",
        "  for i in range (m):\n",
        "    nl.append(n*s[i])\n",
        "  return (\"\".join(nl))"
      ],
      "execution_count": null,
      "outputs": []
    },
    {
      "metadata": {
        "id": "HC1QzXiqR5M9",
        "outputId": "9cc49509-53b1-44b3-cfc0-1bd48631e543",
        "colab": {
          "base_uri": "https://localhost:8080/",
          "height": 34
        }
      },
      "cell_type": "code",
      "source": [
        "fun6(\"abcdefg\",3,3)"
      ],
      "execution_count": null,
      "outputs": [
        {
          "output_type": "execute_result",
          "data": {
            "text/plain": [
              "'aaabbbccc'"
            ]
          },
          "metadata": {
            "tags": []
          },
          "execution_count": 51
        }
      ]
    },
    {
      "metadata": {
        "id": "MgtaJ37KSNLj"
      },
      "cell_type": "code",
      "source": [
        ""
      ],
      "execution_count": null,
      "outputs": []
    },
    {
      "metadata": {
        "id": "wsWjZSolTELg"
      },
      "cell_type": "markdown",
      "source": [
        "given a string s and a character c,return how many times c occurs in s"
      ]
    },
    {
      "metadata": {
        "id": "X4WT15gcTSQU"
      },
      "cell_type": "code",
      "source": [
        "def fun7(s,c):\n",
        "  count=0\n",
        "  for i in range(len(s)):\n",
        "    if s[i]==c:\n",
        "      count=count+1\n",
        "  return count"
      ],
      "execution_count": null,
      "outputs": []
    },
    {
      "metadata": {
        "id": "ekVpi_4-U3Bo",
        "outputId": "2fbe1305-6010-4e85-9162-cd64a06531f3",
        "colab": {
          "base_uri": "https://localhost:8080/",
          "height": 34
        }
      },
      "cell_type": "code",
      "source": [
        "fun7(\"geeks\",\"e\")"
      ],
      "execution_count": null,
      "outputs": [
        {
          "output_type": "execute_result",
          "data": {
            "text/plain": [
              "2"
            ]
          },
          "metadata": {
            "tags": []
          },
          "execution_count": 56
        }
      ]
    },
    {
      "metadata": {
        "id": "PcrapO05VIWn"
      },
      "cell_type": "code",
      "source": [
        ""
      ],
      "execution_count": null,
      "outputs": []
    },
    {
      "metadata": {
        "id": "MHcAHWthXXEB"
      },
      "cell_type": "markdown",
      "source": [
        "given an int. return true if n is a palindromic number. else false"
      ]
    },
    {
      "metadata": {
        "id": "ii5-Fo54Xogj"
      },
      "cell_type": "code",
      "source": [
        "def fun8(s):\n",
        "  return(s==s[::-1])\n",
        "  "
      ],
      "execution_count": null,
      "outputs": []
    },
    {
      "metadata": {
        "id": "FEHJ5Ak3YeJn",
        "outputId": "d17db297-fd2d-42f5-928d-f04d476a4cdc",
        "colab": {
          "base_uri": "https://localhost:8080/",
          "height": 34
        }
      },
      "cell_type": "code",
      "source": [
        "fun8(\"14041\")"
      ],
      "execution_count": null,
      "outputs": [
        {
          "output_type": "execute_result",
          "data": {
            "text/plain": [
              "True"
            ]
          },
          "metadata": {
            "tags": []
          },
          "execution_count": 61
        }
      ]
    },
    {
      "metadata": {
        "id": "SNSXoIYcZFam"
      },
      "cell_type": "code",
      "source": [
        "def reverse(n):\n",
        "  r=0\n",
        "  while n>0:\n",
        "    r=r*10+(n%10)\n",
        "    n=n/10\n",
        "    return \n",
        "  \n",
        "  def isP(n):\n",
        "    return n==reverse(n)"
      ],
      "execution_count": null,
      "outputs": []
    },
    {
      "metadata": {
        "id": "dMBMPoiXc20_",
        "outputId": "be680847-a5da-4710-e65f-9d00a3ff3140",
        "colab": {
          "base_uri": "https://localhost:8080/",
          "height": 34
        }
      },
      "cell_type": "code",
      "source": [
        "print (sum ([i for i in range (1001) if i%3==0 or i%5==0]))"
      ],
      "execution_count": null,
      "outputs": [
        {
          "output_type": "stream",
          "text": [
            "234168\n"
          ],
          "name": "stdout"
        }
      ]
    },
    {
      "metadata": {
        "id": "bpCccxXieApN",
        "outputId": "5d878aa8-a38b-42f6-ab39-6da2c45d19cb",
        "colab": {
          "base_uri": "https://localhost:8080/",
          "height": 34
        }
      },
      "cell_type": "code",
      "source": [
        "print ([i for i in range (10) if i%2==0])"
      ],
      "execution_count": null,
      "outputs": [
        {
          "output_type": "stream",
          "text": [
            "[0, 2, 4, 6, 8]\n"
          ],
          "name": "stdout"
        }
      ]
    },
    {
      "metadata": {
        "id": "gd2ImHzUeRH-"
      },
      "cell_type": "code",
      "source": [
        "def fun9(s,c): \n",
        "  return sum([1 for x in s if x==c])"
      ],
      "execution_count": null,
      "outputs": []
    },
    {
      "metadata": {
        "id": "m2_LYixue7Vj",
        "outputId": "c13e18b7-d1d2-4e21-fe90-5d142b05ae22",
        "colab": {
          "base_uri": "https://localhost:8080/",
          "height": 34
        }
      },
      "cell_type": "code",
      "source": [
        "fun9(\"geeks\",\"e\")"
      ],
      "execution_count": null,
      "outputs": [
        {
          "output_type": "execute_result",
          "data": {
            "text/plain": [
              "2"
            ]
          },
          "metadata": {
            "tags": []
          },
          "execution_count": 68
        }
      ]
    },
    {
      "metadata": {
        "id": "vSPHwYj4fBX6"
      },
      "cell_type": "code",
      "source": [
        "def multiprint(text,n=3):\n",
        "  return n*text"
      ],
      "execution_count": null,
      "outputs": []
    },
    {
      "metadata": {
        "id": "Huh5g8RXDhMv",
        "outputId": "d96c18d2-f253-4f51-9c04-e55c5ffb20a8",
        "colab": {
          "base_uri": "https://localhost:8080/",
          "height": 34
        }
      },
      "cell_type": "code",
      "source": [
        "print(multiprint(\" hello \"))"
      ],
      "execution_count": null,
      "outputs": [
        {
          "output_type": "stream",
          "text": [
            " hello  hello  hello \n"
          ],
          "name": "stdout"
        }
      ]
    },
    {
      "metadata": {
        "id": "teZn0vMtEjyL"
      },
      "cell_type": "markdown",
      "source": [
        "default arugment should follow positional arugment"
      ]
    },
    {
      "metadata": {
        "id": "rNIyQZa0Ewn-",
        "outputId": "a0339481-d4f3-47be-cc25-38ae8dadf6a4",
        "colab": {
          "base_uri": "https://localhost:8080/",
          "height": 34
        }
      },
      "cell_type": "code",
      "source": [
        "print(multiprint(n=3,text=\"hello \"))"
      ],
      "execution_count": null,
      "outputs": [
        {
          "output_type": "stream",
          "text": [
            "hello hello hello \n"
          ],
          "name": "stdout"
        }
      ]
    },
    {
      "metadata": {
        "id": "orQLmC3zDuCu"
      },
      "cell_type": "code",
      "source": [
        "def mymap (fun,l):\n",
        "  nl=[]\n",
        "  for x in l:\n",
        "    nl.append (fun(x))\n",
        "  return nl"
      ],
      "execution_count": null,
      "outputs": []
    },
    {
      "metadata": {
        "id": "1pJYQ3daGftu",
        "outputId": "1e1d3763-f8b7-4962-a837-3cd27a77c269",
        "colab": {
          "base_uri": "https://localhost:8080/",
          "height": 34
        }
      },
      "cell_type": "code",
      "source": [
        "l=list(range(5))\n",
        "def sqr(x):\n",
        "  return x*x\n",
        "print(mymap(sqr,l))\n"
      ],
      "execution_count": null,
      "outputs": [
        {
          "output_type": "stream",
          "text": [
            "[0, 1, 4, 9, 16]\n"
          ],
          "name": "stdout"
        }
      ]
    },
    {
      "metadata": {
        "id": "WOrgP37FG4R2",
        "outputId": "f8fe8726-8c9c-46a6-a906-bb35e3db13f1",
        "colab": {
          "base_uri": "https://localhost:8080/",
          "height": 34
        }
      },
      "cell_type": "code",
      "source": [
        "def cube(x):\n",
        "  return x*x*x\n",
        "print(mymap(cube,l))"
      ],
      "execution_count": null,
      "outputs": [
        {
          "output_type": "stream",
          "text": [
            "[0, 1, 8, 27, 64]\n"
          ],
          "name": "stdout"
        }
      ]
    },
    {
      "metadata": {
        "id": "pmf0zrwiHdO1"
      },
      "cell_type": "code",
      "source": [
        "sqr=lambda x:x*x"
      ],
      "execution_count": null,
      "outputs": []
    },
    {
      "metadata": {
        "id": "-zBqYWHoI9XC",
        "outputId": "bcfdf355-5530-46ac-9c6f-20c1a376651e",
        "colab": {
          "base_uri": "https://localhost:8080/",
          "height": 34
        }
      },
      "cell_type": "code",
      "source": [
        "print(mymap(sqr,l))"
      ],
      "execution_count": null,
      "outputs": [
        {
          "output_type": "stream",
          "text": [
            "[0, 1, 4, 9, 16]\n"
          ],
          "name": "stdout"
        }
      ]
    },
    {
      "metadata": {
        "id": "IZmiBr3vJIHT",
        "outputId": "f0bfb541-b98b-4581-8c78-1f02bacfaec8",
        "colab": {
          "base_uri": "https://localhost:8080/",
          "height": 34
        }
      },
      "cell_type": "code",
      "source": [
        "print (mymap(lambda x:x*x,l))"
      ],
      "execution_count": null,
      "outputs": [
        {
          "output_type": "stream",
          "text": [
            "[0, 1, 4, 9, 16]\n"
          ],
          "name": "stdout"
        }
      ]
    },
    {
      "metadata": {
        "id": "KcQ6h7_xJYQB",
        "outputId": "cf3184bc-5438-4fc8-ea49-09bcb69a3003",
        "colab": {
          "base_uri": "https://localhost:8080/",
          "height": 34
        }
      },
      "cell_type": "code",
      "source": [
        "print (mymap(lambda x: x*x*x,l))"
      ],
      "execution_count": null,
      "outputs": [
        {
          "output_type": "stream",
          "text": [
            "[0, 1, 8, 27, 64]\n"
          ],
          "name": "stdout"
        }
      ]
    },
    {
      "metadata": {
        "id": "gYL0Nw6BJg7h"
      },
      "cell_type": "code",
      "source": [
        "def myfilter (fun,l):\n",
        "  nl=[]\n",
        "  for x in l:\n",
        "    if fun(x):\n",
        "      nl.append(x)\n",
        "  return  nl"
      ],
      "execution_count": null,
      "outputs": []
    },
    {
      "metadata": {
        "id": "J7eAOa0WKM6h",
        "outputId": "0e442d07-8690-4812-b3ca-26aa4146502d",
        "colab": {
          "base_uri": "https://localhost:8080/",
          "height": 34
        }
      },
      "cell_type": "code",
      "source": [
        "print (myfilter(lambda x:x%2==0,l))"
      ],
      "execution_count": null,
      "outputs": [
        {
          "output_type": "stream",
          "text": [
            "[0, 2, 4]\n"
          ],
          "name": "stdout"
        }
      ]
    },
    {
      "metadata": {
        "id": "QPmZ-He_KnJQ"
      },
      "cell_type": "code",
      "source": [
        "def outer(p):\n",
        "  def inner (q):\n",
        "    return p+q\n",
        "  return inner"
      ],
      "execution_count": null,
      "outputs": []
    },
    {
      "metadata": {
        "id": "y0VfdDxAL27D",
        "outputId": "0da62e57-1b19-4e41-a447-c6010bceaa0e",
        "colab": {
          "base_uri": "https://localhost:8080/",
          "height": 51
        }
      },
      "cell_type": "code",
      "source": [
        "x=outer(100)\n",
        "y=outer(200)\n",
        "print(x(10))\n",
        "print(y(10)) #x&y are fun closures"
      ],
      "execution_count": null,
      "outputs": [
        {
          "output_type": "stream",
          "text": [
            "110\n",
            "210\n"
          ],
          "name": "stdout"
        }
      ]
    },
    {
      "metadata": {
        "id": "2NU64BsWMud2"
      },
      "cell_type": "code",
      "source": [
        ""
      ],
      "execution_count": null,
      "outputs": []
    },
    {
      "metadata": {
        "id": "T1nYw760NyGZ"
      },
      "cell_type": "markdown",
      "source": [
        "give a list of int l and an integer n,return True if n is in l"
      ]
    },
    {
      "metadata": {
        "id": "q5WLC5H7OAUU"
      },
      "cell_type": "code",
      "source": [
        "def fun11 (n,l):\n",
        "  if n in l:\n",
        "    return True "
      ],
      "execution_count": null,
      "outputs": []
    },
    {
      "metadata": {
        "id": "h0DPm_a5OM0l",
        "outputId": "a7b459e6-aead-4da2-b950-3ae53e4a085f",
        "colab": {
          "base_uri": "https://localhost:8080/",
          "height": 34
        }
      },
      "cell_type": "code",
      "source": [
        "fun11(2,l)"
      ],
      "execution_count": null,
      "outputs": [
        {
          "output_type": "execute_result",
          "data": {
            "text/plain": [
              "True"
            ]
          },
          "metadata": {
            "tags": []
          },
          "execution_count": 34
        }
      ]
    },
    {
      "metadata": {
        "id": "DgMmQqwDPbWK"
      },
      "cell_type": "code",
      "source": [
        "def fun13(n,l):\n",
        "  return (n in l)"
      ],
      "execution_count": null,
      "outputs": []
    },
    {
      "metadata": {
        "id": "R7n2YzJsPrPX",
        "outputId": "6362dffc-9b2c-4e1a-f129-170ecbad0e1d",
        "colab": {
          "base_uri": "https://localhost:8080/",
          "height": 34
        }
      },
      "cell_type": "code",
      "source": [
        "fun13(8,l)"
      ],
      "execution_count": null,
      "outputs": [
        {
          "output_type": "execute_result",
          "data": {
            "text/plain": [
              "False"
            ]
          },
          "metadata": {
            "tags": []
          },
          "execution_count": 37
        }
      ]
    },
    {
      "metadata": {
        "id": "gquPSS6pPxu7"
      },
      "cell_type": "code",
      "source": [
        "fun14=lambda n,l:(n in l)"
      ],
      "execution_count": null,
      "outputs": []
    },
    {
      "metadata": {
        "id": "4-ws0fAtQrAl",
        "outputId": "69af2363-a0f8-4ba7-af4a-d64933122146",
        "colab": {
          "base_uri": "https://localhost:8080/",
          "height": 34
        }
      },
      "cell_type": "code",
      "source": [
        "print(fun14(5,[1,2,3,4,5,6,7,8]))"
      ],
      "execution_count": null,
      "outputs": [
        {
          "output_type": "stream",
          "text": [
            "True\n"
          ],
          "name": "stdout"
        }
      ]
    },
    {
      "metadata": {
        "id": "0DXlF7vSSBTR"
      },
      "cell_type": "markdown",
      "source": [
        "given a list of interger L and an integer n,return true if the first or last element of L.\n",
        "otherwise return false"
      ]
    },
    {
      "metadata": {
        "id": "I1IW-sa8Saob",
        "outputId": "9bd5f01e-2b01-4e12-99cc-8dd46916d04e",
        "colab": {
          "base_uri": "https://localhost:8080/",
          "height": 34
        }
      },
      "cell_type": "code",
      "source": [
        "fun15= lambda n,l:(n==l[0]) or (n==l[-1])\n",
        "print(fun15(2,[1,3,4,5]))"
      ],
      "execution_count": null,
      "outputs": [
        {
          "output_type": "stream",
          "text": [
            "False\n"
          ],
          "name": "stdout"
        }
      ]
    },
    {
      "metadata": {
        "id": "a9kkTEZtXQ42"
      },
      "cell_type": "markdown",
      "source": [
        "given list of integers and an integer n ,rotate l to right if n is positive. If n is -ve rotate to left by n places.\n",
        "ex L=[1,2,3,4,5,6,7.8] and n=3then [7,8,9,1,2,3,4,5,6]"
      ]
    },
    {
      "metadata": {
        "id": "9-MSjNvMYAmW"
      },
      "cell_type": "code",
      "source": [
        "def rotate (n,L):\n",
        "  if n==0:\n",
        "    return L\n",
        "  elif n>0:\n",
        "    for i in range(n):\n",
        "      x=l.pop()\n",
        "      L.insert (0,x)\n",
        "      return L\n",
        "    else:\n",
        "      n=-n\n",
        "      for i in range (n):\n",
        "        x=L.pop(0)\n",
        "        L.append(x)\n",
        "        return L"
      ],
      "execution_count": null,
      "outputs": []
    },
    {
      "metadata": {
        "id": "8zCryhbFde60",
        "outputId": "d8e9e7c3-445a-4ea5-875c-9048e16ee84c",
        "colab": {
          "base_uri": "https://localhost:8080/",
          "height": 51
        }
      },
      "cell_type": "code",
      "source": [
        "L=[1,2,3,4,5,6,7,8,9]\n",
        "print(rotate(3,L))\n",
        "print(rotate(-3,L))"
      ],
      "execution_count": null,
      "outputs": [
        {
          "output_type": "stream",
          "text": [
            "[4, 1, 2, 3, 4, 5, 6, 7, 8, 9]\n",
            "None\n"
          ],
          "name": "stdout"
        }
      ]
    },
    {
      "metadata": {
        "id": "FAKs8w3xe170"
      },
      "cell_type": "markdown",
      "source": [
        "list the largest element of a list of integers and positioning of largest element"
      ]
    },
    {
      "metadata": {
        "id": "04YHseBUe-KL",
        "outputId": "b913b5a0-68d1-4eab-9c19-42f31cd9c794",
        "colab": {
          "base_uri": "https://localhost:8080/",
          "height": 34
        }
      },
      "cell_type": "code",
      "source": [
        "max(L)"
      ],
      "execution_count": null,
      "outputs": [
        {
          "output_type": "execute_result",
          "data": {
            "text/plain": [
              "9"
            ]
          },
          "metadata": {
            "tags": []
          },
          "execution_count": 58
        }
      ]
    },
    {
      "metadata": {
        "id": "4-GBhz39g_VH"
      },
      "cell_type": "code",
      "source": [
        "def max(L):\n",
        "  m=L(0)\n",
        "  for x in L[1:]:\n",
        "    if x>m:\n",
        "      m=x\n",
        "  return m"
      ],
      "execution_count": null,
      "outputs": []
    },
    {
      "metadata": {
        "id": "gbqTJ7_oeS1L",
        "outputId": "df5cc19b-5770-4b5d-ff22-b9d31db895b1",
        "colab": {
          "base_uri": "https://localhost:8080/",
          "height": 163
        }
      },
      "cell_type": "code",
      "source": [
        "maxL([98,56,45,34,127])"
      ],
      "execution_count": null,
      "outputs": [
        {
          "output_type": "error",
          "ename": "NameError",
          "evalue": "ignored",
          "traceback": [
            "\u001b[0;31m---------------------------------------------------------------------------\u001b[0m",
            "\u001b[0;31mNameError\u001b[0m                                 Traceback (most recent call last)",
            "\u001b[0;32m<ipython-input-64-d14c32e3f0e5>\u001b[0m in \u001b[0;36m<module>\u001b[0;34m()\u001b[0m\n\u001b[0;32m----> 1\u001b[0;31m \u001b[0mmaxL\u001b[0m\u001b[0;34m(\u001b[0m\u001b[0;34m[\u001b[0m\u001b[0;36m98\u001b[0m\u001b[0;34m,\u001b[0m\u001b[0;36m56\u001b[0m\u001b[0;34m,\u001b[0m\u001b[0;36m45\u001b[0m\u001b[0;34m,\u001b[0m\u001b[0;36m34\u001b[0m\u001b[0;34m,\u001b[0m\u001b[0;36m127\u001b[0m\u001b[0;34m]\u001b[0m\u001b[0;34m)\u001b[0m\u001b[0;34m\u001b[0m\u001b[0;34m\u001b[0m\u001b[0m\n\u001b[0m",
            "\u001b[0;31mNameError\u001b[0m: name 'maxL' is not defined"
          ]
        }
      ]
    },
    {
      "metadata": {
        "id": "3KOyDALNh6H1"
      },
      "cell_type": "code",
      "source": [
        ""
      ],
      "execution_count": null,
      "outputs": []
    },
    {
      "metadata": {
        "id": "S7ln_8uviXwb"
      },
      "cell_type": "markdown",
      "source": [
        "modify the above function to return the second largest element of L"
      ]
    },
    {
      "metadata": {
        "id": "pFI8IzKnikfj"
      },
      "cell_type": "code",
      "source": [
        "def fun18(L):\n",
        "  m=L[0]\n",
        "  p=L[0]\n",
        "  for x in L:\n",
        "    if x>m:\n",
        "      m=x\n",
        "      for x in L:\n",
        "        if x>p and x<m:\n",
        "          p=x\n",
        "  return p"
      ],
      "execution_count": null,
      "outputs": []
    },
    {
      "metadata": {
        "id": "3dwUzNL_m7yM",
        "outputId": "22a140f7-dfdf-4cda-dafd-99785d8fc02b",
        "colab": {
          "base_uri": "https://localhost:8080/",
          "height": 34
        }
      },
      "cell_type": "code",
      "source": [
        "fun18([23,45,67,78,56])"
      ],
      "execution_count": null,
      "outputs": [
        {
          "output_type": "execute_result",
          "data": {
            "text/plain": [
              "67"
            ]
          },
          "metadata": {
            "tags": []
          },
          "execution_count": 72
        }
      ]
    },
    {
      "metadata": {
        "id": "8qH8vu8Nnw3c"
      },
      "cell_type": "markdown",
      "source": [
        "given string s return the number of vowels in it. Solve using list comprehension "
      ]
    },
    {
      "metadata": {
        "id": "1hVUKVT6oGyy"
      },
      "cell_type": "code",
      "source": [
        "def countVowls(s):\n",
        "  count=0\n",
        "  for c in s:\n",
        "    if c in \"aeiou\":\n",
        "      count+=1\n",
        "  return count\n",
        "    "
      ],
      "execution_count": null,
      "outputs": []
    },
    {
      "metadata": {
        "id": "PHOP6HMxrJLE"
      },
      "cell_type": "code",
      "source": [
        "def countVowels_l(s):\n",
        "  return sum([1 for c in s if c in \"aeiou\"])"
      ],
      "execution_count": null,
      "outputs": []
    },
    {
      "metadata": {
        "id": "Rr2-DMSfsQ-l",
        "outputId": "f450e69c-8c69-4ba6-feca-408645b9ce09",
        "colab": {
          "base_uri": "https://localhost:8080/",
          "height": 34
        }
      },
      "cell_type": "code",
      "source": [
        "s=\"ashwini\"\n",
        "print(countVowls(s))"
      ],
      "execution_count": null,
      "outputs": [
        {
          "output_type": "stream",
          "text": [
            "3\n"
          ],
          "name": "stdout"
        }
      ]
    },
    {
      "metadata": {
        "id": "YuAH0oATtwjc",
        "outputId": "c64f70ba-5388-48d6-ff08-2d3cafcdb301",
        "colab": {
          "base_uri": "https://localhost:8080/",
          "height": 51
        }
      },
      "cell_type": "code",
      "source": [
        "ns=\"abcdefg\"\n",
        "ls=list(ns)\n",
        "print(ls)\n",
        "ls[2]=\"z\"\n",
        "print(\" \".join(ls))"
      ],
      "execution_count": null,
      "outputs": [
        {
          "output_type": "stream",
          "text": [
            "['a', 'b', 'c', 'd', 'e', 'f', 'g']\n",
            "a b z d e f g\n"
          ],
          "name": "stdout"
        }
      ]
    },
    {
      "metadata": {
        "id": "wdsiRmkmuoiu"
      },
      "cell_type": "markdown",
      "source": [
        "given a string s return a new string containing two of every character in s\n",
        "eg:\"abc\"=\"aabbcc\""
      ]
    },
    {
      "metadata": {
        "id": "_Z5MJSSpvLtm"
      },
      "cell_type": "code",
      "source": [
        "def fun20(s):\n",
        "  nl=[]\n",
        "  ls=list(s)\n",
        "  for c in s:\n",
        "    nl.append(2*c)\n",
        "  print(\" \".join(nl))\n"
      ],
      "execution_count": null,
      "outputs": []
    },
    {
      "metadata": {
        "id": "-x2wAGUuxk0y",
        "outputId": "9bbceabd-8ec0-4b4a-94cf-3f5bd3fb1831",
        "colab": {
          "base_uri": "https://localhost:8080/",
          "height": 34
        }
      },
      "cell_type": "code",
      "source": [
        "fun20(\"ash\")"
      ],
      "execution_count": null,
      "outputs": [
        {
          "output_type": "stream",
          "text": [
            "aa ss hh\n"
          ],
          "name": "stdout"
        }
      ]
    },
    {
      "metadata": {
        "id": "410utpCgzW8u"
      },
      "cell_type": "code",
      "source": [
        "def fun21(s):\n",
        "  return \"\".join([2*c for c in s])"
      ],
      "execution_count": null,
      "outputs": []
    },
    {
      "metadata": {
        "id": "BwL2ri_O1l8o",
        "outputId": "5ce8e267-93c0-416f-ff3c-b38ebdc3ed91",
        "colab": {
          "base_uri": "https://localhost:8080/",
          "height": 34
        }
      },
      "cell_type": "code",
      "source": [
        "print(fun21(\"abc\"))"
      ],
      "execution_count": null,
      "outputs": [
        {
          "output_type": "stream",
          "text": [
            "aabbcc\n"
          ],
          "name": "stdout"
        }
      ]
    },
    {
      "metadata": {
        "id": "1rjq4Ln63YkZ"
      },
      "cell_type": "markdown",
      "source": [
        "given a string s return a new string containing only distinct characters of s.\n",
        "example:successfull-sucefl"
      ]
    },
    {
      "metadata": {
        "id": "adqGG8Gw38ze"
      },
      "cell_type": "code",
      "source": [
        "def fun22(s):\n",
        "  lm=list(s)\n",
        "  nl=[]\n",
        "  for c in s:\n",
        "    if c not in nl:\n",
        "      nl.append(c)\n",
        "  return (\" \".join(nl))"
      ],
      "execution_count": null,
      "outputs": []
    },
    {
      "metadata": {
        "id": "IQjqAiAU4zWH",
        "outputId": "fcc344a2-5131-41f3-f765-651c6e2db32a",
        "colab": {
          "base_uri": "https://localhost:8080/",
          "height": 34
        }
      },
      "cell_type": "code",
      "source": [
        "fun22(\"successfull\")"
      ],
      "execution_count": null,
      "outputs": [
        {
          "output_type": "execute_result",
          "data": {
            "text/plain": [
              "'s u c e f l'"
            ]
          },
          "metadata": {
            "tags": []
          },
          "execution_count": 28
        }
      ]
    },
    {
      "metadata": {
        "id": "7MOHiDwm6ZdY"
      },
      "cell_type": "code",
      "source": [
        "def uniq_l(s):\n",
        "  return \"\".join(set(list(s)))"
      ],
      "execution_count": null,
      "outputs": []
    },
    {
      "metadata": {
        "id": "0oRhZKil6vuV",
        "outputId": "f5a9cc4b-8fa4-4ef5-907e-cd82c39099a5",
        "colab": {
          "base_uri": "https://localhost:8080/",
          "height": 34
        }
      },
      "cell_type": "code",
      "source": [
        "print(uniq_l(\"successfull\"))"
      ],
      "execution_count": null,
      "outputs": [
        {
          "output_type": "stream",
          "text": [
            "csluef\n"
          ],
          "name": "stdout"
        }
      ]
    },
    {
      "metadata": {
        "id": "woULomlD7R_v",
        "outputId": "d409aacf-fd12-4b6c-91f5-5e804c5b341c",
        "colab": {
          "base_uri": "https://localhost:8080/",
          "height": 34
        }
      },
      "cell_type": "code",
      "source": [
        "d={\"a\":1,\"b\":2,\"c\":3,\"d\":4,\"e\":5}\n",
        "print(d[\"b\"])"
      ],
      "execution_count": null,
      "outputs": [
        {
          "output_type": "stream",
          "text": [
            "2\n"
          ],
          "name": "stdout"
        }
      ]
    },
    {
      "metadata": {
        "id": "6VaWe6d38chQ",
        "outputId": "c0bf30e8-b07a-46c6-9b5a-acc9b56c4226",
        "colab": {
          "base_uri": "https://localhost:8080/",
          "height": 51
        }
      },
      "cell_type": "code",
      "source": [
        "print(list(d.keys()))\n",
        "print(list(d.values()))"
      ],
      "execution_count": null,
      "outputs": [
        {
          "output_type": "stream",
          "text": [
            "['a', 'b', 'c', 'd', 'e']\n",
            "[1, 2, 3, 4, 5]\n"
          ],
          "name": "stdout"
        }
      ]
    },
    {
      "metadata": {
        "id": "fHMY67W18u7c",
        "outputId": "ca105964-6c7d-436b-ed49-fdcdcc3647bf",
        "colab": {
          "base_uri": "https://localhost:8080/",
          "height": 51
        }
      },
      "cell_type": "code",
      "source": [
        "print(\"a\" in d)\n",
        "print (\"z\" in d)"
      ],
      "execution_count": null,
      "outputs": [
        {
          "output_type": "stream",
          "text": [
            "True\n",
            "False\n"
          ],
          "name": "stdout"
        }
      ]
    },
    {
      "metadata": {
        "id": "gILw89fHBBfX",
        "outputId": "6aca9a91-194f-4f0d-9ed4-575b0ee67fdf",
        "colab": {
          "base_uri": "https://localhost:8080/",
          "height": 34
        }
      },
      "cell_type": "code",
      "source": [
        "d[\"z\"]=26\n",
        "print(d)"
      ],
      "execution_count": null,
      "outputs": [
        {
          "output_type": "stream",
          "text": [
            "{'a': 1, 'b': 2, 'c': 3, 'd': 4, 'e': 5, 'z': 26}\n"
          ],
          "name": "stdout"
        }
      ]
    },
    {
      "metadata": {
        "id": "mdNSu8DnB_NK",
        "outputId": "a08c1b66-df16-4e2d-9d5c-f5217bb6223b",
        "colab": {
          "base_uri": "https://localhost:8080/",
          "height": 34
        }
      },
      "cell_type": "code",
      "source": [
        "nd={}\n",
        "nd[\"g\"]=10\n",
        "print(nd)"
      ],
      "execution_count": null,
      "outputs": [
        {
          "output_type": "stream",
          "text": [
            "{'g': 10}\n"
          ],
          "name": "stdout"
        }
      ]
    },
    {
      "metadata": {
        "id": "drCZmzN9CKAv",
        "outputId": "6f5d69ba-0994-4ace-ef67-e12aaf8a5a3a",
        "colab": {
          "base_uri": "https://localhost:8080/",
          "height": 119
        }
      },
      "cell_type": "code",
      "source": [
        "for k,v in d.items():\n",
        "  print(k,v)"
      ],
      "execution_count": null,
      "outputs": [
        {
          "output_type": "stream",
          "text": [
            "a 1\n",
            "b 2\n",
            "c 3\n",
            "d 4\n",
            "e 5\n",
            "z 26\n"
          ],
          "name": "stdout"
        }
      ]
    },
    {
      "metadata": {
        "id": "IVgiLJBJCkOp"
      },
      "cell_type": "markdown",
      "source": [
        "given a string s. return the number of vowels of each type, that is, how many \"a\" and \"i\" and so on"
      ]
    },
    {
      "metadata": {
        "id": "V_jcwRQIDB6M"
      },
      "cell_type": "code",
      "source": [
        "def fun23(s):\n",
        "  v={}\n",
        "  for c in s:\n",
        "    if c in \"aeiou\":\n",
        "      if c in v:\n",
        "        v[c]+=1\n",
        "      else:\n",
        "          v[c]=1\n",
        "  return v\n",
        "  "
      ],
      "execution_count": null,
      "outputs": []
    },
    {
      "metadata": {
        "id": "w8RzSlEEF6TY",
        "outputId": "bf12a1d1-76a0-4f57-e584-fa605af07172",
        "colab": {
          "base_uri": "https://localhost:8080/",
          "height": 34
        }
      },
      "cell_type": "code",
      "source": [
        "print(fun23(\"aujgytgyuhfsjgyfrguhfdljjeu\"))"
      ],
      "execution_count": null,
      "outputs": [
        {
          "output_type": "stream",
          "text": [
            "{'a': 1, 'u': 4, 'e': 1}\n"
          ],
          "name": "stdout"
        }
      ]
    },
    {
      "metadata": {
        "id": "8C6Z0-wiHssS",
        "outputId": "69cd7e60-a4a1-42cc-8e25-4cd49c0101c0",
        "colab": {
          "base_uri": "https://localhost:8080/",
          "height": 68
        }
      },
      "cell_type": "code",
      "source": [
        "x=input(\"enter a number\")\n",
        "y=input(\"enter another number\")\n",
        "try:\n",
        "  print(int(x)+int(y))\n",
        "except:\n",
        "  print(\"invalid\")\n",
        "  "
      ],
      "execution_count": null,
      "outputs": [
        {
          "output_type": "stream",
          "text": [
            "enter a number34\n",
            "enter another number45\n",
            "79\n"
          ],
          "name": "stdout"
        }
      ]
    },
    {
      "metadata": {
        "id": "vWop9MLAJwIW"
      },
      "cell_type": "code",
      "source": [
        "s=\"the quick brown fox jumped over a lazy dog\\n\"\n",
        "f=open(\"tmp.txt\", \"w\")\n",
        "for i in range(10):\n",
        "   f.write(s)\n",
        "f.close()\n",
        "  "
      ],
      "execution_count": null,
      "outputs": []
    },
    {
      "metadata": {
        "id": "Dx0hxjFQMKfL",
        "outputId": "18ff32ed-6b76-4b49-8dd5-92386de3c049",
        "colab": {
          "base_uri": "https://localhost:8080/",
          "height": 204
        }
      },
      "cell_type": "code",
      "source": [
        "f=open(\"tmp.txt\",\"r\")\n",
        "d=f.read()\n",
        "print(d)\n",
        "f.close()"
      ],
      "execution_count": null,
      "outputs": [
        {
          "output_type": "stream",
          "text": [
            "the quick brown fox jumped over a lazy dog\n",
            "the quick brown fox jumped over a lazy dog\n",
            "the quick brown fox jumped over a lazy dog\n",
            "the quick brown fox jumped over a lazy dog\n",
            "the quick brown fox jumped over a lazy dog\n",
            "the quick brown fox jumped over a lazy dog\n",
            "the quick brown fox jumped over a lazy dog\n",
            "the quick brown fox jumped over a lazy dog\n",
            "the quick brown fox jumped over a lazy dog\n",
            "the quick brown fox jumped over a lazy dog\n",
            "\n"
          ],
          "name": "stdout"
        }
      ]
    },
    {
      "metadata": {
        "id": "D_L1z1JjOdQX",
        "outputId": "c748015f-cd25-47a8-f57a-abd230e6d0ee",
        "colab": {
          "base_uri": "https://localhost:8080/",
          "height": 918
        }
      },
      "cell_type": "code",
      "source": [
        "f=open(\"tmp.txt\",\"r\")\n",
        "while True:\n",
        "  d=f.read(10)\n",
        "  if not d:\n",
        "    break\n",
        "  print(d)\n",
        "f.close()"
      ],
      "execution_count": null,
      "outputs": [
        {
          "output_type": "stream",
          "text": [
            "the quick \n",
            "brown fox \n",
            "jumped ove\n",
            "r a lazy d\n",
            "og\n",
            "the qui\n",
            "ck brown f\n",
            "ox jumped \n",
            "over a laz\n",
            "y dog\n",
            "the \n",
            "quick brow\n",
            "n fox jump\n",
            "ed over a \n",
            "lazy dog\n",
            "t\n",
            "he quick b\n",
            "rown fox j\n",
            "umped over\n",
            " a lazy do\n",
            "g\n",
            "the quic\n",
            "k brown fo\n",
            "x jumped o\n",
            "ver a lazy\n",
            " dog\n",
            "the q\n",
            "uick brown\n",
            " fox jumpe\n",
            "d over a l\n",
            "azy dog\n",
            "th\n",
            "e quick br\n",
            "own fox ju\n",
            "mped over \n",
            "a lazy dog\n",
            "\n",
            "the quick\n",
            " brown fox\n",
            " jumped ov\n",
            "er a lazy \n",
            "dog\n",
            "the qu\n",
            "ick brown \n",
            "fox jumped\n",
            " over a la\n",
            "zy dog\n",
            "the\n",
            " quick bro\n",
            "wn fox jum\n",
            "ped over a\n",
            " lazy dog\n",
            "\n"
          ],
          "name": "stdout"
        }
      ]
    },
    {
      "metadata": {
        "id": "9F2zpw3gQAUF",
        "outputId": "3621f815-8f3b-4a9a-f4e9-e8e3cc80fe37",
        "colab": {
          "base_uri": "https://localhost:8080/",
          "height": 204
        }
      },
      "cell_type": "code",
      "source": [
        "f=open(\"tmp.txt\",\"r\")\n",
        "while True:\n",
        "  d=f.read(100)\n",
        "  if not d:\n",
        "    break\n",
        "  print(d,end=\",\")\n",
        "f.close()"
      ],
      "execution_count": null,
      "outputs": [
        {
          "output_type": "stream",
          "text": [
            "the quick brown fox jumped over a lazy dog\n",
            "the quick brown fox jumped over a lazy dog\n",
            "the quick brow,n fox jumped over a lazy dog\n",
            "the quick brown fox jumped over a lazy dog\n",
            "the quick brown fox jumped o,ver a lazy dog\n",
            "the quick brown fox jumped over a lazy dog\n",
            "the quick brown fox jumped over a lazy dog,\n",
            "the quick brown fox jumped over a lazy dog\n",
            "the quick brown fox jumped over a lazy dog\n",
            "the quick bro,wn fox jumped over a lazy dog\n",
            ","
          ],
          "name": "stdout"
        }
      ]
    },
    {
      "metadata": {
        "id": "h0zEvewBQ9Jr",
        "outputId": "1d2e3dc8-9b8f-4127-e531-39ad86bac0b1",
        "colab": {
          "base_uri": "https://localhost:8080/",
          "height": 129
        }
      },
      "cell_type": "code",
      "source": [
        "f1=open(\"tmp.txt\",\"r\")\n",
        "f2=open(\"tmp1.txt\",\"w\")\n",
        "while True:\n",
        "  d=f1.read(10)\n",
        "  if not d:\n",
        "     break\n",
        "    else:\n",
        "      f2.write(d)\n",
        "f1.close()\n",
        "f2.close()"
      ],
      "execution_count": null,
      "outputs": [
        {
          "output_type": "error",
          "ename": "IndentationError",
          "evalue": "ignored",
          "traceback": [
            "\u001b[0;36m  File \u001b[0;32m\"<ipython-input-68-f11fab5d4bc3>\"\u001b[0;36m, line \u001b[0;32m7\u001b[0m\n\u001b[0;31m    else:\u001b[0m\n\u001b[0m         ^\u001b[0m\n\u001b[0;31mIndentationError\u001b[0m\u001b[0;31m:\u001b[0m unindent does not match any outer indentation level\n"
          ]
        }
      ]
    },
    {
      "metadata": {
        "id": "PCUTonj9RtoS",
        "outputId": "abda843b-62e6-482f-89a0-118c559b82f3",
        "colab": {
          "base_uri": "https://localhost:8080/",
          "height": 51
        }
      },
      "cell_type": "code",
      "source": [
        "inp=input('enter two numbers')\n",
        "a=inp.split(',')\n",
        "print(a)"
      ],
      "execution_count": null,
      "outputs": [
        {
          "output_type": "stream",
          "text": [
            "enter two numbers67 89\n",
            "['67 89']\n"
          ],
          "name": "stdout"
        }
      ]
    },
    {
      "metadata": {
        "id": "YQVE9KpIlC6Q",
        "outputId": "c19dde90-1fa2-41a9-ea38-ad00cfddb719",
        "colab": {
          "base_uri": "https://localhost:8080/",
          "height": 51
        }
      },
      "cell_type": "code",
      "source": [
        "inp=input('enter two numbers')\n",
        "a=inp.split()\n",
        "print(int(a[0])+int(a[1]))"
      ],
      "execution_count": null,
      "outputs": [
        {
          "output_type": "stream",
          "text": [
            "enter two numbers87 67\n",
            "154\n"
          ],
          "name": "stdout"
        }
      ]
    },
    {
      "metadata": {
        "id": "mnINF_S0mYtK",
        "outputId": "326b0cd0-4fd6-4a7e-8546-cc5fdaa83c58",
        "colab": {
          "base_uri": "https://localhost:8080/",
          "height": 51
        }
      },
      "cell_type": "code",
      "source": [
        "inp=input('enter two numbers')\n",
        "a,b=inp.split()\n",
        "print(int(a)+int(b))"
      ],
      "execution_count": null,
      "outputs": [
        {
          "output_type": "stream",
          "text": [
            "enter two numbers45 67\n",
            "112\n"
          ],
          "name": "stdout"
        }
      ]
    },
    {
      "metadata": {
        "id": "t08Y-LAUoZ8Z"
      },
      "cell_type": "markdown",
      "source": [
        "**what is a regular expression**\n",
        "\n",
        "IT IS STRING MADE UP OF A SEQUENCE OF CHARACTERS WHICH IS USED TO SEARCH, REPLACE,SPILT A TEXT STRING\n",
        "\n",
        "the sequence is made up of literals and meta characters"
      ]
    },
    {
      "metadata": {
        "id": "gk3b6HAsnBWA"
      },
      "cell_type": "code",
      "source": [
        "import re"
      ],
      "execution_count": null,
      "outputs": []
    },
    {
      "metadata": {
        "id": "GRVkpwXTrICE"
      },
      "cell_type": "code",
      "source": [
        "text= \"bitty brought   bitter butter she brought better butter \""
      ],
      "execution_count": null,
      "outputs": []
    },
    {
      "metadata": {
        "id": "OerKVZRer0Nu",
        "outputId": "a279782c-d384-486d-85b1-c2ba8e5a2f3a",
        "colab": {
          "base_uri": "https://localhost:8080/",
          "height": 34
        }
      },
      "cell_type": "code",
      "source": [
        "match=re.search(r'butter',text)\n",
        "print(match)"
      ],
      "execution_count": null,
      "outputs": [
        {
          "output_type": "stream",
          "text": [
            "<_sre.SRE_Match object; span=(21, 27), match='butter'>\n"
          ],
          "name": "stdout"
        }
      ]
    },
    {
      "metadata": {
        "id": "DUaMXaxwsHHj",
        "outputId": "0cb44c74-fbf7-49b7-c452-51f5ab4d0a71",
        "colab": {
          "base_uri": "https://localhost:8080/",
          "height": 34
        }
      },
      "cell_type": "code",
      "source": [
        "print(match.group(0))"
      ],
      "execution_count": null,
      "outputs": [
        {
          "output_type": "stream",
          "text": [
            "butter\n"
          ],
          "name": "stdout"
        }
      ]
    },
    {
      "metadata": {
        "id": "amsW3Oveso0S",
        "outputId": "bd95734b-b9d1-4e83-c214-63d200a3ae89",
        "colab": {
          "base_uri": "https://localhost:8080/",
          "height": 34
        }
      },
      "cell_type": "code",
      "source": [
        "match=re.findall(r\"b[eiu]tter\",text)\n",
        "print(match)"
      ],
      "execution_count": null,
      "outputs": [
        {
          "output_type": "stream",
          "text": [
            "['bitter', 'butter', 'better', 'butter']\n"
          ],
          "name": "stdout"
        }
      ]
    },
    {
      "metadata": {
        "id": "oaQky_mMs85u",
        "outputId": "b0b4f103-df2a-40f2-c5dc-c604c1173da5",
        "colab": {
          "base_uri": "https://localhost:8080/",
          "height": 34
        }
      },
      "cell_type": "code",
      "source": [
        "print(match.start,match.end)"
      ],
      "execution_count": null,
      "outputs": [
        {
          "output_type": "stream",
          "text": [
            "<built-in method start of _sre.SRE_Match object at 0x7fb47775c1d0> <built-in method end of _sre.SRE_Match object at 0x7fb47775c1d0>\n"
          ],
          "name": "stdout"
        }
      ]
    },
    {
      "metadata": {
        "id": "z-L7m0sktHFN",
        "outputId": "eda64eb6-9a00-4c56-990f-3e163686860d",
        "colab": {
          "base_uri": "https://localhost:8080/",
          "height": 34
        }
      },
      "cell_type": "code",
      "source": [
        "match=re.split(r'\\s+',text)\n",
        "print(match) #+ sign to remove the space"
      ],
      "execution_count": null,
      "outputs": [
        {
          "output_type": "stream",
          "text": [
            "['bitty', 'brought', 'bitter', 'butter', 'she', 'brought', 'better', 'butter', '']\n"
          ],
          "name": "stdout"
        }
      ]
    },
    {
      "metadata": {
        "id": "2JVqp3Iwv5cr",
        "outputId": "e7281e24-7081-4b59-83b1-771f4fc636e7",
        "colab": {
          "base_uri": "https://localhost:8080/",
          "height": 34
        }
      },
      "cell_type": "code",
      "source": [
        "match=re.search('butter',text)\n",
        "if match:\n",
        "  print(match.start(),match.end())"
      ],
      "execution_count": null,
      "outputs": [
        {
          "output_type": "stream",
          "text": [
            "23 29\n"
          ],
          "name": "stdout"
        }
      ]
    },
    {
      "metadata": {
        "id": "RnD3QAANyl0Z",
        "outputId": "18053a00-3109-4a43-a2f4-15e65e2a7293",
        "colab": {
          "base_uri": "https://localhost:8080/",
          "height": 34
        }
      },
      "cell_type": "code",
      "source": [
        "reg=re.compile(\"b[eiu]tter\")\n",
        "match=reg.search(text)\n",
        "if match:\n",
        "  print(match.start(),match.end())"
      ],
      "execution_count": null,
      "outputs": [
        {
          "output_type": "stream",
          "text": [
            "16 22\n"
          ],
          "name": "stdout"
        }
      ]
    },
    {
      "metadata": {
        "id": "a_WgMATYzEGy",
        "outputId": "00433322-da00-4d51-f94e-81bd6cc3e32e",
        "colab": {
          "base_uri": "https://localhost:8080/",
          "height": 85
        }
      },
      "cell_type": "code",
      "source": [
        "for match in reg.finditer(text):\n",
        "  print(match.start(),match.end())"
      ],
      "execution_count": null,
      "outputs": [
        {
          "output_type": "stream",
          "text": [
            "16 22\n",
            "23 29\n",
            "42 48\n",
            "49 55\n"
          ],
          "name": "stdout"
        }
      ]
    },
    {
      "metadata": {
        "id": "5u5JIkI1zpM0",
        "outputId": "a1b2a2d0-7ffc-4c5d-c305-d40eacd9befc",
        "colab": {
          "base_uri": "https://localhost:8080/",
          "height": 102
        }
      },
      "cell_type": "code",
      "source": [
        "inp=input(\"enter two numbers\")\n",
        "lst=re.split(r'[\\s|,]',inp)\n",
        "s=0\n",
        "for x in lst:\n",
        "  s=s+int(x)\n",
        "  print(s)"
      ],
      "execution_count": null,
      "outputs": [
        {
          "output_type": "stream",
          "text": [
            "enter two numbers12 45,4 23\n",
            "12\n",
            "57\n",
            "61\n",
            "84\n"
          ],
          "name": "stdout"
        }
      ]
    },
    {
      "metadata": {
        "id": "LMvdMY0c0xQ-",
        "outputId": "5c1ed235-8237-4b61-aec2-4a1e33e92e3e",
        "colab": {
          "base_uri": "https://localhost:8080/",
          "height": 85
        }
      },
      "cell_type": "code",
      "source": [
        "inp=input(\"enter two numbers\")\n",
        "lst=re.split(r'\\s+|,|\\|',inp)\n",
        "s=0\n",
        "for x in lst:\n",
        "  s=s+int(x)\n",
        "  print(s)"
      ],
      "execution_count": null,
      "outputs": [
        {
          "output_type": "stream",
          "text": [
            "enter two numbers34 56 78\n",
            "34\n",
            "90\n",
            "168\n"
          ],
          "name": "stdout"
        }
      ]
    },
    {
      "metadata": {
        "id": "gZbGYclS6wEM"
      },
      "cell_type": "code",
      "source": [
        "class Person:\n",
        "  def setName(self,name):\n",
        "    self.name=name\n",
        "  def setAge (self,age):\n",
        "    self.age=age\n",
        "  def getName(self):\n",
        "    return self.name\n",
        "  def getAge(self):\n",
        "    return self.age\n",
        "  "
      ],
      "execution_count": null,
      "outputs": []
    },
    {
      "metadata": {
        "id": "0LPF-XXE8yT3",
        "outputId": "b412bf9c-eef3-491a-ef1b-cafaac73fbae",
        "colab": {
          "base_uri": "https://localhost:8080/",
          "height": 34
        }
      },
      "cell_type": "code",
      "source": [
        "p1=Person()\n",
        "p1.setName(\"John\")\n",
        "p1.setAge(30)\n",
        "print(p1.getName(),p1.getAge())"
      ],
      "execution_count": null,
      "outputs": [
        {
          "output_type": "stream",
          "text": [
            "John 30\n"
          ],
          "name": "stdout"
        }
      ]
    },
    {
      "metadata": {
        "id": "CIVzh4b09S-g"
      },
      "cell_type": "code",
      "source": [
        "\n",
        "class Person:\n",
        "  def setName(self,name):\n",
        "    self.__name=name\n",
        "  def setAge(self,age):\n",
        "    self.__age=age\n",
        "  def getName(self):\n",
        "    return self.__name\n",
        "  def getAge(self):\n",
        "    return self.__age\n",
        "  "
      ],
      "execution_count": null,
      "outputs": []
    },
    {
      "metadata": {
        "id": "ETcNfha8-luJ",
        "outputId": "c79b6b57-2fd7-47c3-df38-52caac129f03",
        "colab": {
          "base_uri": "https://localhost:8080/",
          "height": 51
        }
      },
      "cell_type": "code",
      "source": [
        "p1=Person()\n",
        "p1.setName(\"John\")\n",
        "p1.setAge(30)\n",
        "print(p1.getName(),p1.getAge())\n",
        "p2=Person()\n",
        "p2.setName(\"William\")\n",
        "p2.setAge(26)\n",
        "print(p2.getName(),p2.getAge())"
      ],
      "execution_count": null,
      "outputs": [
        {
          "output_type": "stream",
          "text": [
            "John 30\n",
            "William 26\n"
          ],
          "name": "stdout"
        }
      ]
    },
    {
      "metadata": {
        "id": "bjbpwpGm_85m"
      },
      "cell_type": "code",
      "source": [
        "class Person:\n",
        "  def init__(self,name,age):\n",
        "    self.__name=name\n",
        "    self.__age=age\n",
        "  def setName(self,name):\n",
        "    self .__name=name\n",
        "  def setAge(self,age):\n",
        "    self.__age=age\n",
        "  def getName(self):\n",
        "    return self.__name\n",
        "  def getAge(self):\n",
        "    return self.__age"
      ],
      "execution_count": null,
      "outputs": []
    },
    {
      "metadata": {
        "id": "bbhsCd9LD0Qy"
      },
      "cell_type": "code",
      "source": [
        "class Employee(Person):\n",
        "  def __init__(self,name,age,role):\n",
        "    Person.__init__(self,name,age)\n",
        "    self.__role=role\n",
        "  def setRole(self,role):\n",
        "    self.__role=role\n",
        "  def getRole(self):\n",
        "    return self.__role"
      ],
      "execution_count": null,
      "outputs": []
    },
    {
      "metadata": {
        "id": "bBDq2whHE1ea",
        "outputId": "22ceaf96-5035-4f3a-b5eb-987a1cd125ee",
        "colab": {
          "base_uri": "https://localhost:8080/",
          "height": 333
        }
      },
      "cell_type": "code",
      "source": [
        "e1=Employee(\"john\",30,\"Manager\")\n",
        "e2=Employee(\"Robert\",26,\"Teammember\")\n",
        "print(e1.getname(),e1.getage(),e1.getrole())\n",
        "print(e2.getname(),e2.getage(),e2.getrole())"
      ],
      "execution_count": null,
      "outputs": [
        {
          "output_type": "error",
          "ename": "TypeError",
          "evalue": "ignored",
          "traceback": [
            "\u001b[0;31m---------------------------------------------------------------------------\u001b[0m",
            "\u001b[0;31mTypeError\u001b[0m                                 Traceback (most recent call last)",
            "\u001b[0;32m<ipython-input-59-b45424a0bdc3>\u001b[0m in \u001b[0;36m<module>\u001b[0;34m()\u001b[0m\n\u001b[0;32m----> 1\u001b[0;31m \u001b[0me1\u001b[0m\u001b[0;34m=\u001b[0m\u001b[0mEmployee\u001b[0m\u001b[0;34m(\u001b[0m\u001b[0;34m\"john\"\u001b[0m\u001b[0;34m,\u001b[0m\u001b[0;36m30\u001b[0m\u001b[0;34m,\u001b[0m\u001b[0;34m\"Manager\"\u001b[0m\u001b[0;34m)\u001b[0m\u001b[0;34m\u001b[0m\u001b[0;34m\u001b[0m\u001b[0m\n\u001b[0m\u001b[1;32m      2\u001b[0m \u001b[0me2\u001b[0m\u001b[0;34m=\u001b[0m\u001b[0mEmployee\u001b[0m\u001b[0;34m(\u001b[0m\u001b[0;34m\"Robert\"\u001b[0m\u001b[0;34m,\u001b[0m\u001b[0;36m26\u001b[0m\u001b[0;34m,\u001b[0m\u001b[0;34m\"Teammember\"\u001b[0m\u001b[0;34m)\u001b[0m\u001b[0;34m\u001b[0m\u001b[0;34m\u001b[0m\u001b[0m\n\u001b[1;32m      3\u001b[0m \u001b[0mprint\u001b[0m\u001b[0;34m(\u001b[0m\u001b[0me1\u001b[0m\u001b[0;34m.\u001b[0m\u001b[0mgetname\u001b[0m\u001b[0;34m(\u001b[0m\u001b[0;34m)\u001b[0m\u001b[0;34m,\u001b[0m\u001b[0me1\u001b[0m\u001b[0;34m.\u001b[0m\u001b[0mgetage\u001b[0m\u001b[0;34m(\u001b[0m\u001b[0;34m)\u001b[0m\u001b[0;34m,\u001b[0m\u001b[0me1\u001b[0m\u001b[0;34m.\u001b[0m\u001b[0mgetrole\u001b[0m\u001b[0;34m(\u001b[0m\u001b[0;34m)\u001b[0m\u001b[0;34m)\u001b[0m\u001b[0;34m\u001b[0m\u001b[0;34m\u001b[0m\u001b[0m\n\u001b[1;32m      4\u001b[0m \u001b[0mprint\u001b[0m\u001b[0;34m(\u001b[0m\u001b[0me2\u001b[0m\u001b[0;34m.\u001b[0m\u001b[0mgetname\u001b[0m\u001b[0;34m(\u001b[0m\u001b[0;34m)\u001b[0m\u001b[0;34m,\u001b[0m\u001b[0me2\u001b[0m\u001b[0;34m.\u001b[0m\u001b[0mgetage\u001b[0m\u001b[0;34m(\u001b[0m\u001b[0;34m)\u001b[0m\u001b[0;34m,\u001b[0m\u001b[0me2\u001b[0m\u001b[0;34m.\u001b[0m\u001b[0mgetrole\u001b[0m\u001b[0;34m(\u001b[0m\u001b[0;34m)\u001b[0m\u001b[0;34m)\u001b[0m\u001b[0;34m\u001b[0m\u001b[0;34m\u001b[0m\u001b[0m\n",
            "\u001b[0;32m<ipython-input-58-d5ff2da20d09>\u001b[0m in \u001b[0;36m__init__\u001b[0;34m(self, name, age, role)\u001b[0m\n\u001b[1;32m      1\u001b[0m \u001b[0;32mclass\u001b[0m \u001b[0mEmployee\u001b[0m\u001b[0;34m(\u001b[0m\u001b[0mPerson\u001b[0m\u001b[0;34m)\u001b[0m\u001b[0;34m:\u001b[0m\u001b[0;34m\u001b[0m\u001b[0;34m\u001b[0m\u001b[0m\n\u001b[1;32m      2\u001b[0m   \u001b[0;32mdef\u001b[0m \u001b[0m__init__\u001b[0m\u001b[0;34m(\u001b[0m\u001b[0mself\u001b[0m\u001b[0;34m,\u001b[0m\u001b[0mname\u001b[0m\u001b[0;34m,\u001b[0m\u001b[0mage\u001b[0m\u001b[0;34m,\u001b[0m\u001b[0mrole\u001b[0m\u001b[0;34m)\u001b[0m\u001b[0;34m:\u001b[0m\u001b[0;34m\u001b[0m\u001b[0;34m\u001b[0m\u001b[0m\n\u001b[0;32m----> 3\u001b[0;31m     \u001b[0mPerson\u001b[0m\u001b[0;34m.\u001b[0m\u001b[0m__init__\u001b[0m\u001b[0;34m(\u001b[0m\u001b[0mself\u001b[0m\u001b[0;34m,\u001b[0m\u001b[0mname\u001b[0m\u001b[0;34m,\u001b[0m\u001b[0mage\u001b[0m\u001b[0;34m)\u001b[0m\u001b[0;34m\u001b[0m\u001b[0;34m\u001b[0m\u001b[0m\n\u001b[0m\u001b[1;32m      4\u001b[0m     \u001b[0mself\u001b[0m\u001b[0;34m.\u001b[0m\u001b[0m__role\u001b[0m\u001b[0;34m=\u001b[0m\u001b[0mrole\u001b[0m\u001b[0;34m\u001b[0m\u001b[0;34m\u001b[0m\u001b[0m\n\u001b[1;32m      5\u001b[0m   \u001b[0;32mdef\u001b[0m \u001b[0msetRole\u001b[0m\u001b[0;34m(\u001b[0m\u001b[0mself\u001b[0m\u001b[0;34m,\u001b[0m\u001b[0mrole\u001b[0m\u001b[0;34m)\u001b[0m\u001b[0;34m:\u001b[0m\u001b[0;34m\u001b[0m\u001b[0;34m\u001b[0m\u001b[0m\n",
            "\u001b[0;31mTypeError\u001b[0m: object.__init__() takes no parameters"
          ]
        }
      ]
    },
    {
      "metadata": {
        "id": "OG84RE7XFoKF"
      },
      "cell_type": "code",
      "source": [
        ""
      ],
      "execution_count": null,
      "outputs": []
    },
    {
      "metadata": {
        "id": "WGs1NDjjF1z1"
      },
      "cell_type": "markdown",
      "source": [
        "create a class Doctor inheriting from Person and he has specialization like \"cadiology\""
      ]
    },
    {
      "metadata": {
        "id": "osxpTg54GQF3"
      },
      "cell_type": "code",
      "source": [
        "class doctor(Person):\n",
        "  def __init__(self,name,age,sec):\n",
        "    Person.__init__(self,name,age)\n",
        "    self.__sec=sec\n",
        "  def setsec(self,sec):\n",
        "    self.__sec=sec\n",
        "  def getsec(self):\n",
        "    return self.__sec"
      ],
      "execution_count": null,
      "outputs": []
    },
    {
      "metadata": {
        "id": "q84U1xfXHog9",
        "outputId": "a9f12770-1831-424b-ff6f-5a7b9e283da1",
        "colab": {
          "base_uri": "https://localhost:8080/",
          "height": 333
        }
      },
      "cell_type": "code",
      "source": [
        "d1=doctor(\"unni\",30,\"rdio\")\n",
        "d2=doctor(\"reshma\",28,\"cardio\")\n",
        "print(d1.getname(),d1.getage(),d1.getsec())\n",
        "print(d2.getname(),d2.getage(),d2.getsec())"
      ],
      "execution_count": null,
      "outputs": [
        {
          "output_type": "error",
          "ename": "TypeError",
          "evalue": "ignored",
          "traceback": [
            "\u001b[0;31m---------------------------------------------------------------------------\u001b[0m",
            "\u001b[0;31mTypeError\u001b[0m                                 Traceback (most recent call last)",
            "\u001b[0;32m<ipython-input-91-528287dbf1a1>\u001b[0m in \u001b[0;36m<module>\u001b[0;34m()\u001b[0m\n\u001b[0;32m----> 1\u001b[0;31m \u001b[0md1\u001b[0m\u001b[0;34m=\u001b[0m\u001b[0mdoctor\u001b[0m\u001b[0;34m(\u001b[0m\u001b[0;34m\"unni\"\u001b[0m\u001b[0;34m,\u001b[0m\u001b[0;36m30\u001b[0m\u001b[0;34m,\u001b[0m\u001b[0;34m\"rdio\"\u001b[0m\u001b[0;34m)\u001b[0m\u001b[0;34m\u001b[0m\u001b[0;34m\u001b[0m\u001b[0m\n\u001b[0m\u001b[1;32m      2\u001b[0m \u001b[0md2\u001b[0m\u001b[0;34m=\u001b[0m\u001b[0mdoctor\u001b[0m\u001b[0;34m(\u001b[0m\u001b[0;34m\"reshma\"\u001b[0m\u001b[0;34m,\u001b[0m\u001b[0;36m28\u001b[0m\u001b[0;34m,\u001b[0m\u001b[0;34m\"cardio\"\u001b[0m\u001b[0;34m)\u001b[0m\u001b[0;34m\u001b[0m\u001b[0;34m\u001b[0m\u001b[0m\n\u001b[1;32m      3\u001b[0m \u001b[0mprint\u001b[0m\u001b[0;34m(\u001b[0m\u001b[0md1\u001b[0m\u001b[0;34m.\u001b[0m\u001b[0mgetname\u001b[0m\u001b[0;34m(\u001b[0m\u001b[0;34m)\u001b[0m\u001b[0;34m,\u001b[0m\u001b[0md1\u001b[0m\u001b[0;34m.\u001b[0m\u001b[0mgetage\u001b[0m\u001b[0;34m(\u001b[0m\u001b[0;34m)\u001b[0m\u001b[0;34m,\u001b[0m\u001b[0md1\u001b[0m\u001b[0;34m.\u001b[0m\u001b[0mgetsec\u001b[0m\u001b[0;34m(\u001b[0m\u001b[0;34m)\u001b[0m\u001b[0;34m)\u001b[0m\u001b[0;34m\u001b[0m\u001b[0;34m\u001b[0m\u001b[0m\n\u001b[1;32m      4\u001b[0m \u001b[0mprint\u001b[0m\u001b[0;34m(\u001b[0m\u001b[0md2\u001b[0m\u001b[0;34m.\u001b[0m\u001b[0mgetname\u001b[0m\u001b[0;34m(\u001b[0m\u001b[0;34m)\u001b[0m\u001b[0;34m,\u001b[0m\u001b[0md2\u001b[0m\u001b[0;34m.\u001b[0m\u001b[0mgetage\u001b[0m\u001b[0;34m(\u001b[0m\u001b[0;34m)\u001b[0m\u001b[0;34m,\u001b[0m\u001b[0md2\u001b[0m\u001b[0;34m.\u001b[0m\u001b[0mgetsec\u001b[0m\u001b[0;34m(\u001b[0m\u001b[0;34m)\u001b[0m\u001b[0;34m)\u001b[0m\u001b[0;34m\u001b[0m\u001b[0;34m\u001b[0m\u001b[0m\n",
            "\u001b[0;32m<ipython-input-90-eb75179cb093>\u001b[0m in \u001b[0;36m__init__\u001b[0;34m(self, name, age, sec)\u001b[0m\n\u001b[1;32m      1\u001b[0m \u001b[0;32mclass\u001b[0m \u001b[0mdoctor\u001b[0m\u001b[0;34m(\u001b[0m\u001b[0mPerson\u001b[0m\u001b[0;34m)\u001b[0m\u001b[0;34m:\u001b[0m\u001b[0;34m\u001b[0m\u001b[0;34m\u001b[0m\u001b[0m\n\u001b[1;32m      2\u001b[0m   \u001b[0;32mdef\u001b[0m \u001b[0m__init__\u001b[0m\u001b[0;34m(\u001b[0m\u001b[0mself\u001b[0m\u001b[0;34m,\u001b[0m\u001b[0mname\u001b[0m\u001b[0;34m,\u001b[0m\u001b[0mage\u001b[0m\u001b[0;34m,\u001b[0m\u001b[0msec\u001b[0m\u001b[0;34m)\u001b[0m\u001b[0;34m:\u001b[0m\u001b[0;34m\u001b[0m\u001b[0;34m\u001b[0m\u001b[0m\n\u001b[0;32m----> 3\u001b[0;31m     \u001b[0mPerson\u001b[0m\u001b[0;34m.\u001b[0m\u001b[0m__init__\u001b[0m\u001b[0;34m(\u001b[0m\u001b[0mself\u001b[0m\u001b[0;34m,\u001b[0m\u001b[0mname\u001b[0m\u001b[0;34m,\u001b[0m\u001b[0mage\u001b[0m\u001b[0;34m)\u001b[0m\u001b[0;34m\u001b[0m\u001b[0;34m\u001b[0m\u001b[0m\n\u001b[0m\u001b[1;32m      4\u001b[0m     \u001b[0mself\u001b[0m\u001b[0;34m.\u001b[0m\u001b[0m__sec\u001b[0m\u001b[0;34m=\u001b[0m\u001b[0msec\u001b[0m\u001b[0;34m\u001b[0m\u001b[0;34m\u001b[0m\u001b[0m\n\u001b[1;32m      5\u001b[0m   \u001b[0;32mdef\u001b[0m \u001b[0msetsec\u001b[0m\u001b[0;34m(\u001b[0m\u001b[0mself\u001b[0m\u001b[0;34m,\u001b[0m\u001b[0msec\u001b[0m\u001b[0;34m)\u001b[0m\u001b[0;34m:\u001b[0m\u001b[0;34m\u001b[0m\u001b[0;34m\u001b[0m\u001b[0m\n",
            "\u001b[0;31mTypeError\u001b[0m: object.__init__() takes no parameters"
          ]
        }
      ]
    },
    {
      "metadata": {
        "id": "oOlVbIS5Jkfo"
      },
      "cell_type": "code",
      "source": [
        ""
      ],
      "execution_count": null,
      "outputs": []
    }
  ]
}